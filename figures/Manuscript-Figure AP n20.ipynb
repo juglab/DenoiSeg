{
 "cells": [
  {
   "cell_type": "code",
   "execution_count": 1,
   "metadata": {},
   "outputs": [],
   "source": [
    "import numpy as np\n",
    "from matplotlib import pyplot as plt\n",
    "plt.rc('text', usetex=True)"
   ]
  },
  {
   "cell_type": "markdown",
   "metadata": {},
   "source": [
    "# Read Noise2Seg Results"
   ]
  },
  {
   "cell_type": "code",
   "execution_count": 2,
   "metadata": {},
   "outputs": [],
   "source": [
    "def get_measure(pre, exp, run=1, fraction=0.5, measure='SEG', score_type='validation_'):\n",
    "    with open('/home/tibuch/Noise2Seg/experiments/{}_{}_run{}/fraction_{}/{}scores.csv'.format(pre, exp, run, fraction, score_type)) as f:\n",
    "        line = f.readline()\n",
    "        while line:\n",
    "            line = line.strip().split(',')\n",
    "            if line[0] == measure:\n",
    "                return float(line[1])\n",
    "            line = f.readline()\n",
    "    return None"
   ]
  },
  {
   "cell_type": "code",
   "execution_count": 3,
   "metadata": {},
   "outputs": [],
   "source": [
    "def read_Noise2Seg_results(pre, exp, measure='SEG', runs=[1,2,3,4,5], \n",
    "                           fractions=[0.25, 0.5, 1.0, 2.0, 4.0, 8.0, 16.0, 32.0, 64.0, 100.0], score_type='validation_'):\n",
    "    \n",
    "    stats = []\n",
    "    \n",
    "    for frac in fractions:\n",
    "        scores = []\n",
    "        for r in runs:\n",
    "            scores.append(get_measure(pre, exp, run=r, fraction=frac, measure=measure, score_type=score_type))\n",
    "        \n",
    "        scores = np.array(scores)\n",
    "        stats.append([frac, np.mean(scores), np.std(scores)/np.sqrt(scores.shape[0])])\n",
    "    \n",
    "    return np.array(stats)"
   ]
  },
  {
   "cell_type": "markdown",
   "metadata": {},
   "source": [
    "# Fraction to #Images"
   ]
  },
  {
   "cell_type": "code",
   "execution_count": 4,
   "metadata": {},
   "outputs": [],
   "source": [
    "def fraction_to_abs(fracs, max_num_imgs=3800):\n",
    "    return np.round(max_num_imgs*fracs/100)"
   ]
  },
  {
   "cell_type": "code",
   "execution_count": 5,
   "metadata": {},
   "outputs": [
    {
     "data": {
      "text/plain": [
       "304.0"
      ]
     },
     "execution_count": 5,
     "metadata": {},
     "output_type": "execute_result"
    }
   ],
   "source": [
    "fraction_to_abs(8)"
   ]
  },
  {
   "cell_type": "markdown",
   "metadata": {},
   "source": [
    "# DSB2018 n20: SEG scores on validation data"
   ]
  },
  {
   "cell_type": "code",
   "execution_count": 6,
   "metadata": {},
   "outputs": [],
   "source": [
    "joint_alpha0_1_dsb_n20 = read_Noise2Seg_results('alpha0.1', 'dsb_n20', measure='AP', runs=[1,2,3,4,5], \n",
    "                           fractions=[0.25, 0.5, 1.0, 2.0, 4.0, 8.0, 16.0, 32.0, 64.0, 100.0])\n",
    "\n",
    "joint_alpha0_2_dsb_n20 = read_Noise2Seg_results('alpha0.2', 'dsb_n20', measure='AP', runs=[1,2,3,4,5], \n",
    "                           fractions=[0.25, 0.5, 1.0, 2.0, 4.0, 8.0, 16.0, 32.0, 64.0, 100.0])\n",
    "\n",
    "joint_alpha0_3_dsb_n20 = read_Noise2Seg_results('alpha0.3', 'dsb_n20', measure='AP', runs=[1,2,3,4,5], \n",
    "                           fractions=[0.25, 0.5, 1.0, 2.0, 4.0, 8.0, 16.0, 32.0, 64.0, 100.0])\n",
    "\n",
    "joint_alpha0_4_dsb_n20 = read_Noise2Seg_results('alpha0.4', 'dsb_n20', measure='AP', runs=[1,2,3,4,5], \n",
    "                           fractions=[0.25, 0.5, 1.0, 2.0, 4.0, 8.0, 16.0, 32.0, 64.0, 100.0])\n",
    "\n",
    "joint_alpha0_5_dsb_n20 = read_Noise2Seg_results('alpha0.5', 'dsb_n20', measure='AP', runs=[1,2,3,4,5], \n",
    "                           fractions=[0.25, 0.5, 1.0, 2.0, 4.0, 8.0, 16.0, 32.0, 64.0, 100.0])\n",
    "\n",
    "joint_alpha0_6_dsb_n20 = read_Noise2Seg_results('alpha0.6', 'dsb_n20', measure='AP', runs=[1,2,3,4,5], \n",
    "                           fractions=[0.25, 0.5, 1.0, 2.0, 4.0, 8.0, 16.0, 32.0, 64.0, 100.0])\n",
    "\n",
    "joint_alpha0_7_dsb_n20 = read_Noise2Seg_results('alpha0.7', 'dsb_n20', measure='AP', runs=[1,2,3,4,5], \n",
    "                           fractions=[0.25, 0.5, 1.0, 2.0, 4.0, 8.0, 16.0, 32.0, 64.0, 100.0])\n",
    "\n",
    "joint_alpha0_8_dsb_n20 = read_Noise2Seg_results('alpha0.8', 'dsb_n20', measure='AP', runs=[1,2,3,4,5], \n",
    "                           fractions=[0.25, 0.5, 1.0, 2.0, 4.0, 8.0, 16.0, 32.0, 64.0, 100.0])\n",
    "\n",
    "joint_alpha0_9_dsb_n20 = read_Noise2Seg_results('alpha0.9', 'dsb_n20', measure='AP', runs=[1,2,3,4,5], \n",
    "                           fractions=[0.25, 0.5, 1.0, 2.0, 4.0, 8.0, 16.0, 32.0, 64.0, 100.0])"
   ]
  },
  {
   "cell_type": "code",
   "execution_count": 7,
   "metadata": {},
   "outputs": [],
   "source": [
    "def get_best_alphas_for_fractions(exps, fractions=[0.25, 0.5, 1.0, 2.0, 4.0, 8.0, 16.0, 32.0, 64.0, 100.0],\n",
    "                                    alpha_strs = ['0.1', '0.2', '0.3', '0.4', '0.5', '0.6', '0.7', '0.8', '0.9']):\n",
    "    scores = []\n",
    "    sems = []\n",
    "    alphas = []\n",
    "\n",
    "    for i in fractions:\n",
    "        best_score = 0.0\n",
    "        best_sem = 0.0\n",
    "        best_alpha = ''\n",
    "        for num, exp in enumerate(exps):\n",
    "\n",
    "            for j in range (exp.shape[0]):\n",
    "                if(exp[j][0]==i):\n",
    "                    score = exp[j][1]\n",
    "                    corresponding_sem = exp[j][2]\n",
    "                    corresponding_alpha = alpha_strs[num]\n",
    "                    break\n",
    "            if(score > best_score):\n",
    "                best_score = score\n",
    "                best_sem = corresponding_sem\n",
    "                best_alpha = corresponding_alpha\n",
    "\n",
    "        scores.append(best_score)\n",
    "        sems.append(best_sem)\n",
    "        alphas.append(best_alpha)\n",
    "        \n",
    "    return np.array(scores), np.array(sems), alphas"
   ]
  },
  {
   "cell_type": "code",
   "execution_count": 8,
   "metadata": {
    "scrolled": true
   },
   "outputs": [],
   "source": [
    "fractions = np.array([0.25, 0.5, 1.0, 2.0, 4.0, 8.0, 16.0, 32.0, 64.0, 100.0])\n",
    "best_scores, best_sems, best_alphas = get_best_alphas_for_fractions(exps=[joint_alpha0_1_dsb_n20, joint_alpha0_2_dsb_n20, joint_alpha0_3_dsb_n20, joint_alpha0_4_dsb_n20, joint_alpha0_5_dsb_n20, joint_alpha0_6_dsb_n20, joint_alpha0_7_dsb_n20, joint_alpha0_8_dsb_n20, joint_alpha0_9_dsb_n20],\n",
    "                                                                  fractions=fractions)"
   ]
  },
  {
   "cell_type": "code",
   "execution_count": 9,
   "metadata": {},
   "outputs": [],
   "source": [
    "baseline_dsb_n20 = read_Noise2Seg_results('fin', 'dsb_n20', measure='AP', runs=[1,2,3,4,5], \n",
    "                           fractions=[0.25, 0.5, 1.0, 2.0, 4.0, 8.0, 16.0, 32.0, 64.0, 100.0], score_type = '')\n",
    "\n",
    "sequential_dsb_n20 = read_Noise2Seg_results('finSeq', 'dsb_n20', measure='AP', runs=[1,2,3,4,5], \n",
    "                           fractions=[0.25, 0.5, 1.0, 2.0, 4.0, 8.0, 16.0, 32.0, 64.0, 100.0], score_type = '')\n",
    "\n",
    "best_joint_dsb_n20_scores = []\n",
    "best_joint_dsb_n20_sems = []\n",
    "\n",
    "for i in range(len(best_alphas)):\n",
    "    t = read_Noise2Seg_results('alpha'+best_alphas[i], 'dsb_n20', measure='AP', runs=[1,2,3,4,5], \n",
    "                           fractions=[fractions[i]], score_type = '')\n",
    "    best_joint_dsb_n20_scores.append(t[0,1])\n",
    "    best_joint_dsb_n20_sems.append(t[0,2])\n",
    "    \n",
    "best_joint_dsb_n20_scores = np.array(best_joint_dsb_n20_scores)\n",
    "best_joint_dsb_n20_sems = np.array(best_joint_dsb_n20_sems)"
   ]
  },
  {
   "cell_type": "code",
   "execution_count": 10,
   "metadata": {},
   "outputs": [],
   "source": [
    "test_joint_alpha0_5_dsb_n20 = read_Noise2Seg_results('alpha0.5', 'dsb_n20', measure='AP', runs=[1,2,3,4,5], \n",
    "                           fractions=[0.25, 0.5, 1.0, 2.0, 4.0, 8.0, 16.0, 32.0, 64.0, 100.0], score_type='')"
   ]
  },
  {
   "cell_type": "code",
   "execution_count": 11,
   "metadata": {},
   "outputs": [],
   "source": [
    "plt.rc('font', family = 'serif', size = 20)"
   ]
  },
  {
   "cell_type": "code",
   "execution_count": 12,
   "metadata": {},
   "outputs": [],
   "source": [
    "def cm2inch(*tupl, scale=3):\n",
    "    inch = 2.54\n",
    "    if isinstance(tupl[0], tuple):\n",
    "        return tuple(scale * i/inch for i in tupl[0])\n",
    "    else:\n",
    "        return tuple(scale * i/inch for i in tupl)"
   ]
  },
  {
   "cell_type": "code",
   "execution_count": 13,
   "metadata": {},
   "outputs": [
    {
     "data": {
      "image/png": "[encoded data removed]",
      "text/plain": [
       "<Figure size 518.74x340.157 with 1 Axes>"
      ]
     },
     "metadata": {
      "needs_background": "light"
     },
     "output_type": "display_data"
    }
   ],
   "source": [
    "fig = plt.figure(figsize=cm2inch(12.2/2,4)) # 12.2cm is the text-widht of the MICCAI template\n",
    "\n",
    "plt.plot(fraction_to_abs(baseline_dsb_n20[:, 0], max_num_imgs = 3800), \n",
    "         baseline_dsb_n20[:, 1],\n",
    "         color = 'red', alpha = 0.9)\n",
    "plt.fill_between(fraction_to_abs(baseline_dsb_n20[:, 0], max_num_imgs = 3800), \n",
    "                 y1 = baseline_dsb_n20[:, 1] + baseline_dsb_n20[:, 2], \n",
    "                 y2 = baseline_dsb_n20[:, 1] - baseline_dsb_n20[:, 2], \n",
    "                 color = 'red', alpha = 0.25, label = 'Baseline')\n",
    "\n",
    "plt.plot(fraction_to_abs(sequential_dsb_n20[:, 0], max_num_imgs = 3800), \n",
    "         sequential_dsb_n20[:, 1],\n",
    "         color = 'blue', alpha = 0.9)\n",
    "plt.fill_between(fraction_to_abs(sequential_dsb_n20[:, 0], max_num_imgs = 3800), \n",
    "                 y1 = sequential_dsb_n20[:, 1] + sequential_dsb_n20[:, 2], \n",
    "                 y2 = sequential_dsb_n20[:, 1] - sequential_dsb_n20[:, 2], \n",
    "                 color = 'blue', alpha = 0.2, label = 'Baseline Sequential')\n",
    "\n",
    "plt.plot(fraction_to_abs(fractions, max_num_imgs = 3800), \n",
    "         best_joint_dsb_n20_scores,\n",
    "         color = 'orange', alpha = 0.9)\n",
    "plt.fill_between(fraction_to_abs(fractions, max_num_imgs = 3800), \n",
    "                 y1 = best_joint_dsb_n20_scores + best_joint_dsb_n20_sems, \n",
    "                 y2 = best_joint_dsb_n20_scores - best_joint_dsb_n20_sems, \n",
    "                 color = 'orange', alpha = 0.15, label = r'\\textbf{Joint-Loss (Ours)}')\n",
    "\n",
    "plt.semilogx()\n",
    "# plt.legend(loc = 'lower right')\n",
    "\n",
    "plt.ylabel(r'\\textbf{AP}')\n",
    "plt.xlabel(r'\\textbf{Number of Images ($P_1$ to $P_{10}$)}')\n",
    "\n",
    "plt.grid(axis='y')\n",
    "\n",
    "plt.xticks(ticks=fraction_to_abs(fractions, max_num_imgs = 3800), \n",
    "           labels=fraction_to_abs(fractions, max_num_imgs = 3800).astype(np.int),\n",
    "           rotation=45)\n",
    "plt.minorticks_off()\n",
    "\n",
    "plt.yticks(rotation=45)\n",
    "\n",
    "plt.xlim([8.5, 4500])\n",
    "\n",
    "plt.tight_layout();\n",
    "\n",
    "plt.savefig('AP_n20_area.pdf', pad_inches=0.0);\n",
    "plt.savefig('AP_n20_area.svg', pad_inches=0.0);"
   ]
  }
 ],
 "metadata": {
  "kernelspec": {
   "display_name": "Python 3",
   "language": "python",
   "name": "python3"
  },
  "language_info": {
   "codemirror_mode": {
    "name": "ipython",
    "version": 3
   },
   "file_extension": ".py",
   "mimetype": "text/x-python",
   "name": "python",
   "nbconvert_exporter": "python",
   "pygments_lexer": "ipython3",
   "version": "3.6.9"
  }
 },
 "nbformat": 4,
 "nbformat_minor": 4
}
