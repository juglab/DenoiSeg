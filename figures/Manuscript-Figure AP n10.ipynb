{
 "cells": [
  {
   "cell_type": "code",
   "execution_count": 1,
   "metadata": {},
   "outputs": [],
   "source": [
    "import numpy as np\n",
    "from matplotlib import pyplot as plt\n",
    "plt.rc('text', usetex=True)"
   ]
  },
  {
   "cell_type": "markdown",
   "metadata": {},
   "source": [
    "# Read Noise2Seg Results"
   ]
  },
  {
   "cell_type": "code",
   "execution_count": 2,
   "metadata": {},
   "outputs": [],
   "source": [
    "def read_voidseg_results(name):\n",
    "    content = []\n",
    "    with open('/home/tibuch/Noise2Seg/VoidSeg_Baselines/machine_readable/' + name) as f:\n",
    "        line = f.readline()\n",
    "        while line:\n",
    "            content.append([float(x) for x in line.strip().split(\" \")])\n",
    "            line = f.readline()\n",
    "\n",
    "    return np.array(content)"
   ]
  },
  {
   "cell_type": "code",
   "execution_count": 3,
   "metadata": {},
   "outputs": [],
   "source": [
    "def get_measure(pre, exp, run=1, fraction=0.5, measure='SEG', score_type='validation_'):\n",
    "    with open('/home/tibuch/Noise2Seg/experiments/{}_{}_run{}/fraction_{}/{}scores.csv'.format(pre, exp, run, fraction, score_type)) as f:\n",
    "        line = f.readline()\n",
    "        while line:\n",
    "            line = line.strip().split(',')\n",
    "            if line[0] == measure:\n",
    "                return float(line[1])\n",
    "            line = f.readline()\n",
    "    return None"
   ]
  },
  {
   "cell_type": "code",
   "execution_count": 4,
   "metadata": {},
   "outputs": [],
   "source": [
    "def read_Noise2Seg_results(pre, exp, measure='SEG', runs=[1,2,3,4,5], \n",
    "                           fractions=[0.25, 0.5, 1.0, 2.0, 4.0, 8.0, 16.0, 32.0, 64.0, 100.0], score_type='validation_'):\n",
    "    \n",
    "    stats = []\n",
    "    \n",
    "    for frac in fractions:\n",
    "        scores = []\n",
    "        for r in runs:\n",
    "            scores.append(get_measure(pre, exp, run=r, fraction=frac, measure=measure, score_type=score_type))\n",
    "        \n",
    "        scores = np.array(scores)\n",
    "        stats.append([frac, np.mean(scores), np.std(scores)/np.sqrt(scores.shape[0])])\n",
    "    \n",
    "    return np.array(stats)"
   ]
  },
  {
   "cell_type": "code",
   "execution_count": 5,
   "metadata": {},
   "outputs": [],
   "source": [
    "def read_Noise2Seg_bestAlpha_results(pre, exp, measure='SEG', runs=[1,2,3,4,5],\n",
    "                                     fractions=[0.25, 0.5, 1.0, 2.0, 4.0, 8.0, 16.0, 32.0, 64.0, 100.0], \n",
    "                                     alphas=[0.1, 0.2, 0.3, 0.4, 0.5, 0.6, 0.7, 0.8, 0.9]):\n",
    "    stats = []\n",
    "    best_alphas = []\n",
    "    for frac in fractions:\n",
    "        scores = []\n",
    "        best_alphas_fraction = []\n",
    "        for r in runs:\n",
    "            best_score = 0\n",
    "            best_alpha = 0\n",
    "            for alpha in alphas:\n",
    "                score = get_measure(pre + str(alpha), exp, run=r, fraction=frac, measure=measure, score_type=\"validation_\")\n",
    "                if score > best_score:\n",
    "                    best_score = score\n",
    "                    best_alpha = alpha\n",
    "            \n",
    "            # read best score from test-data with this best_alpha\n",
    "            best_alphas_fraction.append(best_alpha)\n",
    "            scores.append(get_measure(pre + str(best_alpha), exp, run=r, fraction=frac, measure=measure, score_type=\"\"))\n",
    "        best_alphas.append(best_alphas_fraction)    \n",
    "            \n",
    "        scores = np.array(scores)\n",
    "        stats.append([frac, np.mean(scores), np.std(scores)/np.sqrt(scores.shape[0])])\n",
    "        \n",
    "    return np.array(stats), np.array(best_alphas)"
   ]
  },
  {
   "cell_type": "markdown",
   "metadata": {},
   "source": [
    "# Fraction to #Images"
   ]
  },
  {
   "cell_type": "code",
   "execution_count": 6,
   "metadata": {},
   "outputs": [],
   "source": [
    "def fraction_to_abs(fracs, max_num_imgs=3800):\n",
    "    return np.round(max_num_imgs*fracs/100)"
   ]
  },
  {
   "cell_type": "code",
   "execution_count": 7,
   "metadata": {},
   "outputs": [
    {
     "data": {
      "text/plain": [
       "304.0"
      ]
     },
     "execution_count": 7,
     "metadata": {},
     "output_type": "execute_result"
    }
   ],
   "source": [
    "fraction_to_abs(8)"
   ]
  },
  {
   "cell_type": "markdown",
   "metadata": {},
   "source": [
    "# DSB2018 n10: AP scores on validation data"
   ]
  },
  {
   "cell_type": "code",
   "execution_count": 8,
   "metadata": {},
   "outputs": [],
   "source": [
    "vanilla_dsb_n10 = read_voidseg_results('DSB_n10_AP_baseline.txt')"
   ]
  },
  {
   "cell_type": "code",
   "execution_count": 9,
   "metadata": {},
   "outputs": [],
   "source": [
    "alpha0_5_n10 = read_Noise2Seg_results('alpha0.5', 'dsb_n10', measure='AP', runs=[1,2,3,4,5],\n",
    "                           fractions=[0.25, 0.5, 1.0, 2.0, 4.0, 8.0, 16.0, 32.0, 64.0, 100.0], score_type = '')"
   ]
  },
  {
   "cell_type": "code",
   "execution_count": 10,
   "metadata": {},
   "outputs": [],
   "source": [
    "bestAlpha_n10, bestAlpha_n10_alphas = read_Noise2Seg_bestAlpha_results('alpha', 'dsb_n10', measure='AP', runs=[1,2,3,4,5], \n",
    "                           fractions=[0.25, 0.5, 1.0, 2.0, 4.0, 8.0, 16.0, 32.0, 64.0, 100.0],\n",
    "                           alphas=[0.1, 0.2, 0.3, 0.4, 0.5, 0.6, 0.7, 0.8, 0.9])"
   ]
  },
  {
   "cell_type": "code",
   "execution_count": 11,
   "metadata": {},
   "outputs": [],
   "source": [
    "baseline_dsb_n10 = read_Noise2Seg_results('fin', 'dsb_n10', measure='AP', runs=[1,2,3,4,5], \n",
    "                           fractions=[0.25, 0.5, 1.0, 2.0, 4.0, 8.0, 16.0, 32.0, 64.0, 100.0], score_type = '')\n",
    "\n",
    "sequential_dsb_n10 = read_Noise2Seg_results('finSeq', 'dsb_n10', measure='AP', runs=[1,2,3,4,5], \n",
    "                           fractions=[0.25, 0.5, 1.0, 2.0, 4.0, 8.0, 16.0, 32.0, 64.0, 100.0], score_type = '')"
   ]
  },
  {
   "cell_type": "code",
   "execution_count": 12,
   "metadata": {},
   "outputs": [],
   "source": [
    "plt.rc('font', family = 'serif', size = 16)"
   ]
  },
  {
   "cell_type": "code",
   "execution_count": 13,
   "metadata": {},
   "outputs": [],
   "source": [
    "def cm2inch(*tupl, scale=3):\n",
    "    inch = 2.54\n",
    "    if isinstance(tupl[0], tuple):\n",
    "        return tuple(scale * i/inch for i in tupl[0])\n",
    "    else:\n",
    "        return tuple(scale * i/inch for i in tupl)"
   ]
  },
  {
   "cell_type": "code",
   "execution_count": 14,
   "metadata": {},
   "outputs": [
    {
     "data": {
      "image/png": "[encoded data removed]",
      "text/plain": [
       "<Figure size 518.74x255.118 with 1 Axes>"
      ]
     },
     "metadata": {
      "needs_background": "light"
     },
     "output_type": "display_data"
    }
   ],
   "source": [
    "fig = plt.figure(figsize=cm2inch(12.2/2,3)) # 12.2cm is the text-widht of the MICCAI template\n",
    "plt.rcParams['axes.axisbelow'] = True\n",
    "\n",
    "plt.plot(fraction_to_abs(sequential_dsb_n10[:, 0], max_num_imgs = 3800), \n",
    "         sequential_dsb_n10[:, 1],\n",
    "         color = '#526B34', alpha = 1, linewidth=2)\n",
    "plt.fill_between(fraction_to_abs(sequential_dsb_n10[:, 0], max_num_imgs = 3800), \n",
    "                 y1 = sequential_dsb_n10[:, 1] + sequential_dsb_n10[:, 2], \n",
    "                 y2 = sequential_dsb_n10[:, 1] - sequential_dsb_n10[:, 2], \n",
    "                 color = '#526B34', alpha = 0.5, label = r'Sequential Baseline')\n",
    "\n",
    "plt.plot(fraction_to_abs(alpha0_5_n10[:, 0], max_num_imgs = 3800), \n",
    "         alpha0_5_n10[:, 1],\n",
    "         color = '#8F89B4', alpha = 1, linewidth=2)\n",
    "plt.fill_between(fraction_to_abs(alpha0_5_n10[:, 0], max_num_imgs = 3800), \n",
    "                 y1 = alpha0_5_n10[:, 1] + alpha0_5_n10[:, 2], \n",
    "                 y2 = alpha0_5_n10[:, 1] - alpha0_5_n10[:, 2], \n",
    "                 color = '#8F89B4', alpha = 0.5, label = r'\\textsc{DenoiSeg} ($\\alpha = 0.5$)')\n",
    "\n",
    "plt.plot(fraction_to_abs(baseline_dsb_n10[:, 0], max_num_imgs = 3800), \n",
    "         baseline_dsb_n10[:, 1],\n",
    "         color = '#6D3B2B', alpha = 1, linewidth=2)\n",
    "plt.fill_between(fraction_to_abs(baseline_dsb_n10[:, 0], max_num_imgs = 3800), \n",
    "                 y1 = baseline_dsb_n10[:, 1] + baseline_dsb_n10[:, 2], \n",
    "                 y2 = baseline_dsb_n10[:, 1] - baseline_dsb_n10[:, 2], \n",
    "                 color = '#6D3B2B', alpha = 0.25, label = r'Baseline ($\\alpha = 0$)')\n",
    "\n",
    "\n",
    "plt.semilogx()\n",
    "\n",
    "plt.ylabel(r'\\textbf{AP}')\n",
    "plt.xlabel(r'\\textbf{Number of Annotated Training Images}')\n",
    "\n",
    "plt.grid(axis='y')\n",
    "\n",
    "plt.xticks(ticks=fraction_to_abs(baseline_dsb_n10[:, 0], max_num_imgs = 3800), \n",
    "           labels=fraction_to_abs(baseline_dsb_n10[:, 0], max_num_imgs = 3800).astype(np.int),\n",
    "           rotation=45)\n",
    "plt.minorticks_off()\n",
    "\n",
    "plt.yticks(rotation=45)\n",
    "\n",
    "plt.xlim([8.5, 4500])\n",
    "\n",
    "plt.tight_layout();\n",
    "\n",
    "plt.savefig('AP_n10_area.pdf', pad_inches=0.0);\n",
    "plt.savefig('AP_n10_area.svg', pad_inches=0.0);"
   ]
  }
 ],
 "metadata": {
  "kernelspec": {
   "display_name": "Python 3",
   "language": "python",
   "name": "python3"
  },
  "language_info": {
   "codemirror_mode": {
    "name": "ipython",
    "version": 3
   },
   "file_extension": ".py",
   "mimetype": "text/x-python",
   "name": "python",
   "nbconvert_exporter": "python",
   "pygments_lexer": "ipython3",
   "version": "3.6.9"
  }
 },
 "nbformat": 4,
 "nbformat_minor": 4
}
