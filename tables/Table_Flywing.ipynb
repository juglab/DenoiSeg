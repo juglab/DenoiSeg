{
 "cells": [
  {
   "cell_type": "code",
   "execution_count": 1,
   "metadata": {
    "collapsed": true
   },
   "outputs": [],
   "source": [
    "%load_ext autoreload\n",
    "%autoreload 2\n",
    "import numpy as np\n",
    "import pandas as pd\n",
    "from matplotlib import pyplot as plt\n",
    "plt.rc('text', usetex=True)"
   ]
  },
  {
   "cell_type": "code",
   "execution_count": 2,
   "metadata": {
    "collapsed": true
   },
   "outputs": [],
   "source": [
    "def get_measure(pre, exp, run=1, fraction=0.5, measure='SEG', score_type='validation_'):\n",
    "    with open('/Users/prakash/Desktop/Noise2Seg_cluster/experiments/{}_{}_run{}/fraction_{}/{}scores.csv'.format(pre, exp, run, fraction, score_type)) as f:\n",
    "        line = f.readline()\n",
    "        while line:\n",
    "            line = line.strip().split(',')\n",
    "            if line[0] == measure:\n",
    "                return float(line[1])\n",
    "            line = f.readline()\n",
    "    return None"
   ]
  },
  {
   "cell_type": "code",
   "execution_count": 3,
   "metadata": {
    "collapsed": true
   },
   "outputs": [],
   "source": [
    "def read_Noise2Seg_results(pre, exp, measure='SEG', runs=[1,2,3,4,5], \n",
    "                           fractions=[0.25, 0.5, 1.0, 2.0, 4.0, 8.0, 16.0, 32.0, 64.0, 100.0], score_type='validation_'):\n",
    "    \n",
    "    stats = []\n",
    "    \n",
    "    for frac in fractions:\n",
    "        scores = []\n",
    "        for r in runs:\n",
    "            scores.append(get_measure(pre, exp, run=r, fraction=frac, measure=measure, score_type=score_type))\n",
    "        \n",
    "        scores = np.array(scores)\n",
    "        stats.append([frac, np.mean(scores), np.std(scores)/np.sqrt(scores.shape[0])])\n",
    "    \n",
    "    return np.array(stats)"
   ]
  },
  {
   "cell_type": "code",
   "execution_count": 4,
   "metadata": {
    "collapsed": true
   },
   "outputs": [],
   "source": [
    "def fraction_to_abs(fracs, max_num_imgs=3800):\n",
    "    return np.round(max_num_imgs*fracs/100)"
   ]
  },
  {
   "cell_type": "code",
   "execution_count": 5,
   "metadata": {
    "collapsed": true
   },
   "outputs": [],
   "source": [
    "def get_best_alphas_for_fractions(exps, fractions=[0.25, 0.5, 1.0, 2.0, 4.0, 8.0, 16.0, 32.0, 64.0, 100.0],\n",
    "                                    alpha_strs = ['0.1', '0.2', '0.3', '0.4', '0.5', '0.6', '0.7', '0.8', '0.9']):\n",
    "    scores = []\n",
    "    sems = []\n",
    "    alphas = []\n",
    "\n",
    "    for i in fractions:\n",
    "        best_score = 0.0\n",
    "        best_sem = 0.0\n",
    "        best_alpha = ''\n",
    "        for num, exp in enumerate(exps):\n",
    "\n",
    "            for j in range (exp.shape[0]):\n",
    "                if(exp[j][0]==i):\n",
    "                    score = exp[j][1]\n",
    "                    corresponding_sem = exp[j][2]\n",
    "                    corresponding_alpha = alpha_strs[num]\n",
    "                    break\n",
    "            if(score > best_score):\n",
    "                best_score = score\n",
    "                best_sem = corresponding_sem\n",
    "                best_alpha = corresponding_alpha\n",
    "\n",
    "        scores.append(best_score)\n",
    "        sems.append(best_sem)\n",
    "        alphas.append(best_alpha)\n",
    "        \n",
    "    return alphas"
   ]
  },
  {
   "cell_type": "code",
   "execution_count": 6,
   "metadata": {
    "collapsed": true
   },
   "outputs": [],
   "source": [
    "def get_joint_constant_alpha_validation_results(pre, alphas, exp, measure, runs, fractions):\n",
    "    joint_constant_alpha_results = []\n",
    "    for alpha in alphas:\n",
    "        joint_constant_alpha_results.append(read_Noise2Seg_results(pre+str(alpha), exp, measure=measure, runs=runs, \n",
    "                           fractions=fractions))\n",
    "    return joint_constant_alpha_results"
   ]
  },
  {
   "cell_type": "code",
   "execution_count": 7,
   "metadata": {
    "collapsed": true
   },
   "outputs": [],
   "source": [
    "def get_joint_constant_alpha_test_results(pre, best_alphas, exp, measure, runs, fractions):\n",
    "    best_joint_scores = []\n",
    "    best_joint_sems = []\n",
    "    for i in range(len(best_alphas)):\n",
    "        t = read_Noise2Seg_results(pre+best_alphas[i], exp, measure=measure, runs=runs, \n",
    "                               fractions=[fractions[i]], score_type = '')\n",
    "        best_joint_scores.append(t[0,1])\n",
    "        best_joint_sems.append(t[0,2])\n",
    "    return np.array(best_joint_scores), np.array(best_joint_sems)"
   ]
  },
  {
   "cell_type": "code",
   "execution_count": 8,
   "metadata": {},
   "outputs": [],
   "source": [
    "joint_constant_alpha_flywing_n0_AP = get_joint_constant_alpha_validation_results(pre = 'alpha',\n",
    "                                                                   alphas=['0.1','0.2','0.3','0.4','0.5','0.6','0.7','0.8','0.9'],\n",
    "                                                                   exp = 'flywing_n0', \n",
    "                                                                   measure='AP', \n",
    "                                                                   runs=[1,2,3,4,5], \n",
    "                                                                   fractions=[0.125, 0.25, 0.5, 1.0, 2.0])\n",
    "\n",
    "joint_constant_alpha_flywing_n0_SEG = get_joint_constant_alpha_validation_results(pre = 'alpha',\n",
    "                                                                   alphas=['0.1','0.2','0.3','0.4','0.5','0.6','0.7','0.8','0.9'],\n",
    "                                                                   exp = 'flywing_n0', \n",
    "                                                                   measure='SEG', \n",
    "                                                                   runs=[1,2,3,4,5], \n",
    "                                                                   fractions=[0.125, 0.25, 0.5, 1.0, 2.0])\n",
    "\n",
    "joint_constant_alpha_flywing_n10_AP = get_joint_constant_alpha_validation_results(pre = 'alpha',\n",
    "                                                                   alphas=['0.1','0.2','0.3','0.4','0.5','0.6','0.7','0.8','0.9'],\n",
    "                                                                   exp = 'flywing_n10', \n",
    "                                                                   measure='AP', \n",
    "                                                                   runs=[1,2,3,4,5], \n",
    "                                                                   fractions=[0.125, 0.25, 0.5, 1.0, 2.0])\n",
    "\n",
    "joint_constant_alpha_flywing_n10_SEG = get_joint_constant_alpha_validation_results(pre = 'alpha',\n",
    "                                                                   alphas=['0.1','0.2','0.3','0.4','0.5','0.6','0.7','0.8','0.9'],\n",
    "                                                                   exp = 'flywing_n10', \n",
    "                                                                   measure='SEG', \n",
    "                                                                   runs=[1,2,3,4,5], \n",
    "                                                                   fractions=[0.125, 0.25, 0.5, 1.0, 2.0])\n",
    "\n",
    "\n",
    "joint_constant_alpha_flywing_n20_AP = get_joint_constant_alpha_validation_results(pre = 'alpha',\n",
    "                                                                   alphas=['0.1','0.2','0.3','0.4','0.5','0.6','0.7','0.8','0.9'],\n",
    "                                                                   exp = 'flywing_n20', \n",
    "                                                                   measure='AP', \n",
    "                                                                   runs=[1,2,3,4,5], \n",
    "                                                                   fractions=[0.125, 0.25, 0.5, 1.0, 2.0])\n",
    "\n",
    "joint_constant_alpha_flywing_n20_SEG = get_joint_constant_alpha_validation_results(pre = 'alpha',\n",
    "                                                                   alphas=['0.1','0.2','0.3','0.4','0.5','0.6','0.7','0.8','0.9'],\n",
    "                                                                   exp = 'flywing_n20', \n",
    "                                                                   measure='SEG', \n",
    "                                                                   runs=[1,2,3,4,5], \n",
    "                                                                   fractions=[0.125, 0.25, 0.5, 1.0, 2.0])\n"
   ]
  },
  {
   "cell_type": "code",
   "execution_count": 9,
   "metadata": {
    "collapsed": true
   },
   "outputs": [],
   "source": [
    "fractions = np.array([0.125, 0.25, 0.5, 1.0, 2.0])\n",
    "\n",
    "best_alphas_AP_n0 = get_best_alphas_for_fractions(exps=joint_constant_alpha_flywing_n0_AP,\n",
    "                                                                  fractions=fractions)\n",
    "best_alphas_SEG_n0 = get_best_alphas_for_fractions(exps=joint_constant_alpha_flywing_n0_SEG,\n",
    "                                                                  fractions=fractions)\n",
    "\n",
    "\n",
    "best_alphas_AP_n10 = get_best_alphas_for_fractions(exps=joint_constant_alpha_flywing_n10_AP,\n",
    "                                                                  fractions=fractions)\n",
    "best_alphas_SEG_n10 = get_best_alphas_for_fractions(exps=joint_constant_alpha_flywing_n10_SEG,\n",
    "                                                                  fractions=fractions)\n",
    "\n",
    "best_alphas_AP_n20 = get_best_alphas_for_fractions(exps=joint_constant_alpha_flywing_n20_AP,\n",
    "                                                                  fractions=fractions)\n",
    "best_alphas_SEG_n20 = get_best_alphas_for_fractions(exps=joint_constant_alpha_flywing_n20_SEG,\n",
    "                                                                  fractions=fractions)"
   ]
  },
  {
   "cell_type": "code",
   "execution_count": 10,
   "metadata": {
    "collapsed": true
   },
   "outputs": [],
   "source": [
    "best_joint_flywing_n0_scores_AP = get_joint_constant_alpha_test_results(pre ='alpha', \n",
    "                                                                    best_alphas=best_alphas_AP_n0, exp = 'flywing_n0', \n",
    "                                                                    measure='AP', runs=[1,2,3,4,5],\n",
    "                                                                    fractions=[0.125, 0.25, 0.5, 1.0, 2.0])\n",
    "\n",
    "best_joint_flywing_n0_scores_SEG = get_joint_constant_alpha_test_results(pre ='alpha', \n",
    "                                                                    best_alphas=best_alphas_SEG_n0, exp = 'flywing_n0', \n",
    "                                                                    measure='SEG', runs=[1,2,3,4,5],\n",
    "                                                                    fractions=[0.125, 0.25, 0.5, 1.0, 2.0])\n",
    "\n",
    "best_joint_flywing_n10_scores_AP = get_joint_constant_alpha_test_results(pre ='alpha', \n",
    "                                                                    best_alphas=best_alphas_AP_n10, exp = 'flywing_n10', \n",
    "                                                                    measure='AP', runs=[1,2,3,4,5],\n",
    "                                                                    fractions=[0.125, 0.25, 0.5, 1.0, 2.0])\n",
    "\n",
    "best_joint_flywing_n10_scores_SEG = get_joint_constant_alpha_test_results(pre ='alpha', \n",
    "                                                                    best_alphas=best_alphas_SEG_n10, exp = 'flywing_n10', \n",
    "                                                                    measure='SEG', runs=[1,2,3,4,5],\n",
    "                                                                    fractions=[0.125, 0.25, 0.5, 1.0, 2.0])\n",
    "\n",
    "best_joint_flywing_n20_scores_AP = get_joint_constant_alpha_test_results(pre ='alpha', \n",
    "                                                                    best_alphas=best_alphas_AP_n20, exp = 'flywing_n20', \n",
    "                                                                    measure='AP', runs=[1,2,3,4,5],\n",
    "                                                                    fractions=[0.125, 0.25, 0.5, 1.0, 2.0])\n",
    "\n",
    "best_joint_flywing_n20_scores_SEG = get_joint_constant_alpha_test_results(pre ='alpha', \n",
    "                                                                    best_alphas=best_alphas_SEG_n20, exp = 'flywing_n20', \n",
    "                                                                    measure='SEG', runs=[1,2,3,4,5],\n",
    "                                                                    fractions=[0.125, 0.25, 0.5, 1.0, 2.0])"
   ]
  },
  {
   "cell_type": "code",
   "execution_count": 11,
   "metadata": {},
   "outputs": [],
   "source": [
    "baseline_flywing_n0_AP = read_Noise2Seg_results('fin', 'flywing_n0', measure='AP', runs=[1,2,3,4,5], \n",
    "                           fractions=[0.125, 0.25, 0.5, 1.0, 2.0], score_type = '')\n",
    "\n",
    "sequential_flywing_n0_AP = read_Noise2Seg_results('finSeq', 'flywing_n0', measure='AP', runs=[1,2,3,4,5], \n",
    "                           fractions=[0.125, 0.25, 0.5, 1.0, 2.0], score_type = '')\n",
    "\n",
    "alpha_decay_flywing_n0_AP = read_Noise2Seg_results('alphaLinear0.5', 'flywing_n0', measure='AP', runs=[1,2,3,4,5], \n",
    "                           fractions=[0.125, 0.25, 0.5, 1.0, 2.0], score_type = '')\n",
    "\n",
    "baseline_flywing_n0_SEG = read_Noise2Seg_results('fin', 'flywing_n0', measure='SEG', runs=[1,2,3,4,5], \n",
    "                           fractions=[0.125, 0.25, 0.5, 1.0, 2.0], score_type = '')\n",
    "\n",
    "sequential_flywing_n0_SEG = read_Noise2Seg_results('finSeq', 'flywing_n0', measure='SEG', runs=[1,2,3,4,5], \n",
    "                           fractions=[0.125, 0.25, 0.5, 1.0, 2.0], score_type = '')\n",
    "\n",
    "alpha_decay_flywing_n0_SEG = read_Noise2Seg_results('alphaLinear0.5', 'flywing_n0', measure='SEG', runs=[1,2,3,4,5], \n",
    "                           fractions=[0.125, 0.25, 0.5, 1.0, 2.0], score_type = '')\n",
    "\n",
    "\n",
    "\n",
    "baseline_flywing_n10_AP = read_Noise2Seg_results('fin', 'flywing_n10', measure='AP', runs=[1,2,3,4,5], \n",
    "                           fractions=[0.125, 0.25, 0.5, 1.0, 2.0], score_type = '')\n",
    "\n",
    "sequential_flywing_n10_AP = read_Noise2Seg_results('finSeq', 'nflywing_n10', measure='AP', runs=[1,2,3,4,5], \n",
    "                           fractions=[0.125, 0.25, 0.5, 1.0, 2.0], score_type = '')\n",
    "\n",
    "alpha_decay_flywing_n10_AP = read_Noise2Seg_results('alphaLinear0.5', 'flywing_n10', measure='AP', runs=[1,2,3,4,5], \n",
    "                           fractions=[0.125, 0.25, 0.5, 1.0, 2.0], score_type = '')\n",
    "\n",
    "baseline_flywing_n10_SEG = read_Noise2Seg_results('fin', 'flywing_n10', measure='SEG', runs=[1,2,3,4,5], \n",
    "                           fractions=[0.125, 0.25, 0.5, 1.0, 2.0], score_type = '')\n",
    "\n",
    "sequential_flywing_n10_SEG = read_Noise2Seg_results('finSeq', 'nflywing_n10', measure='SEG', runs=[1,2,3,4,5], \n",
    "                           fractions=[0.125, 0.25, 0.5, 1.0, 2.0], score_type = '')\n",
    "\n",
    "alpha_decay_flywing_n10_SEG = read_Noise2Seg_results('alphaLinear0.5', 'flywing_n10', measure='SEG', runs=[1,2,3,4,5], \n",
    "                           fractions=[0.125, 0.25, 0.5, 1.0, 2.0], score_type = '')\n",
    "\n",
    "\n",
    "\n",
    "baseline_flywing_n20_AP = read_Noise2Seg_results('fin', 'flywing_n20', measure='AP', runs=[1,2,3,4,5], \n",
    "                           fractions=[0.125, 0.25, 0.5, 1.0, 2.0], score_type = '')\n",
    "\n",
    "sequential_flywing_n20_AP = read_Noise2Seg_results('finSeq', 'flywing_n20', measure='AP', runs=[1,2,3,4,5], \n",
    "                           fractions=[0.125, 0.25, 0.5, 1.0, 2.0], score_type = '')\n",
    "\n",
    "alpha_decay_flywing_n20_AP = read_Noise2Seg_results('alphaLinear0.5', 'flywing_n20', measure='AP', runs=[1,2,3,4,5], \n",
    "                           fractions=[0.125, 0.25, 0.5, 1.0, 2.0], score_type = '')\n",
    "\n",
    "baseline_flywing_n20_SEG = read_Noise2Seg_results('fin', 'flywing_n20', measure='SEG', runs=[1,2,3,4,5], \n",
    "                           fractions=[0.125, 0.25, 0.5, 1.0, 2.0], score_type = '')\n",
    "\n",
    "sequential_flywing_n20_SEG = read_Noise2Seg_results('finSeq', 'flywing_n20', measure='SEG', runs=[1,2,3,4,5], \n",
    "                           fractions=[0.125, 0.25, 0.5, 1.0, 2.0], score_type = '')\n",
    "\n",
    "alpha_decay_flywing_n20_SEG = read_Noise2Seg_results('alphaLinear0.5', 'flywing_n20', measure='SEG', runs=[1,2,3,4,5], \n",
    "                           fractions=[0.125, 0.25, 0.5, 1.0, 2.0], score_type = '')\n"
   ]
  },
  {
   "cell_type": "code",
   "execution_count": 12,
   "metadata": {
    "collapsed": true
   },
   "outputs": [],
   "source": [
    "styles = [dict(selector=\"caption\", \n",
    "    props=[(\"text-align\", \"center\"),\n",
    "    (\"font-size\", \"120%\"),\n",
    "    (\"color\", 'black')])] "
   ]
  },
  {
   "cell_type": "code",
   "execution_count": 13,
   "metadata": {},
   "outputs": [
    {
     "data": {
      "text/html": [
       "<style  type=\"text/css\" >\n",
       "    #T_6930fba4_5def_11ea_9e04_8c859024b71d caption {\n",
       "          text-align: center;\n",
       "          font-size: 120%;\n",
       "          color: black;\n",
       "    }    #T_6930fba4_5def_11ea_9e04_8c859024b71drow0_col3 {\n",
       "            background-color:  lightblue;\n",
       "        }    #T_6930fba4_5def_11ea_9e04_8c859024b71drow2_col0 {\n",
       "            background-color:  lightblue;\n",
       "        }    #T_6930fba4_5def_11ea_9e04_8c859024b71drow2_col1 {\n",
       "            background-color:  lightblue;\n",
       "        }    #T_6930fba4_5def_11ea_9e04_8c859024b71drow2_col2 {\n",
       "            background-color:  lightblue;\n",
       "        }    #T_6930fba4_5def_11ea_9e04_8c859024b71drow3_col4 {\n",
       "            background-color:  lightblue;\n",
       "        }</style>  \n",
       "<table id=\"T_6930fba4_5def_11ea_9e04_8c859024b71d\" ><caption>AP scores for Fly Wing n0, highlighted columns indicate best performing method</caption> \n",
       "<thead>    <tr> \n",
       "        <th class=\"blank level0\" ></th> \n",
       "        <th class=\"col_heading level0 col0\" >5 imgs</th> \n",
       "        <th class=\"col_heading level0 col1\" >10 imgs</th> \n",
       "        <th class=\"col_heading level0 col2\" >19 imgs</th> \n",
       "        <th class=\"col_heading level0 col3\" >38 imgs</th> \n",
       "        <th class=\"col_heading level0 col4\" >76 imgs</th> \n",
       "    </tr></thead> \n",
       "<tbody>    <tr> \n",
       "        <th id=\"T_6930fba4_5def_11ea_9e04_8c859024b71dlevel0_row0\" class=\"row_heading level0 row0\" >Baseline</th> \n",
       "        <td id=\"T_6930fba4_5def_11ea_9e04_8c859024b71drow0_col0\" class=\"data row0 col0\" >0.513893</td> \n",
       "        <td id=\"T_6930fba4_5def_11ea_9e04_8c859024b71drow0_col1\" class=\"data row0 col1\" >0.635404</td> \n",
       "        <td id=\"T_6930fba4_5def_11ea_9e04_8c859024b71drow0_col2\" class=\"data row0 col2\" >0.740318</td> \n",
       "        <td id=\"T_6930fba4_5def_11ea_9e04_8c859024b71drow0_col3\" class=\"data row0 col3\" >0.919887</td> \n",
       "        <td id=\"T_6930fba4_5def_11ea_9e04_8c859024b71drow0_col4\" class=\"data row0 col4\" >0.883082</td> \n",
       "    </tr>    <tr> \n",
       "        <th id=\"T_6930fba4_5def_11ea_9e04_8c859024b71dlevel0_row1\" class=\"row_heading level0 row1\" >Sequential</th> \n",
       "        <td id=\"T_6930fba4_5def_11ea_9e04_8c859024b71drow1_col0\" class=\"data row1 col0\" >0.563375</td> \n",
       "        <td id=\"T_6930fba4_5def_11ea_9e04_8c859024b71drow1_col1\" class=\"data row1 col1\" >0.604711</td> \n",
       "        <td id=\"T_6930fba4_5def_11ea_9e04_8c859024b71drow1_col2\" class=\"data row1 col2\" >0.827254</td> \n",
       "        <td id=\"T_6930fba4_5def_11ea_9e04_8c859024b71drow1_col3\" class=\"data row1 col3\" >0.915901</td> \n",
       "        <td id=\"T_6930fba4_5def_11ea_9e04_8c859024b71drow1_col4\" class=\"data row1 col4\" >0.891199</td> \n",
       "    </tr>    <tr> \n",
       "        <th id=\"T_6930fba4_5def_11ea_9e04_8c859024b71dlevel0_row2\" class=\"row_heading level0 row2\" >Joint(best alpha)</th> \n",
       "        <td id=\"T_6930fba4_5def_11ea_9e04_8c859024b71drow2_col0\" class=\"data row2 col0\" >0.758312</td> \n",
       "        <td id=\"T_6930fba4_5def_11ea_9e04_8c859024b71drow2_col1\" class=\"data row2 col1\" >0.820589</td> \n",
       "        <td id=\"T_6930fba4_5def_11ea_9e04_8c859024b71drow2_col2\" class=\"data row2 col2\" >0.867253</td> \n",
       "        <td id=\"T_6930fba4_5def_11ea_9e04_8c859024b71drow2_col3\" class=\"data row2 col3\" >0.912852</td> \n",
       "        <td id=\"T_6930fba4_5def_11ea_9e04_8c859024b71drow2_col4\" class=\"data row2 col4\" >0.919232</td> \n",
       "    </tr>    <tr> \n",
       "        <th id=\"T_6930fba4_5def_11ea_9e04_8c859024b71dlevel0_row3\" class=\"row_heading level0 row3\" >Joint(alpha-decay)</th> \n",
       "        <td id=\"T_6930fba4_5def_11ea_9e04_8c859024b71drow3_col0\" class=\"data row3 col0\" >0.741185</td> \n",
       "        <td id=\"T_6930fba4_5def_11ea_9e04_8c859024b71drow3_col1\" class=\"data row3 col1\" >0.806413</td> \n",
       "        <td id=\"T_6930fba4_5def_11ea_9e04_8c859024b71drow3_col2\" class=\"data row3 col2\" >0.852568</td> \n",
       "        <td id=\"T_6930fba4_5def_11ea_9e04_8c859024b71drow3_col3\" class=\"data row3 col3\" >0.899517</td> \n",
       "        <td id=\"T_6930fba4_5def_11ea_9e04_8c859024b71drow3_col4\" class=\"data row3 col4\" >0.922598</td> \n",
       "    </tr></tbody> \n",
       "</table> "
      ],
      "text/plain": [
       "<pandas.io.formats.style.Styler at 0x11a143630>"
      ]
     },
     "execution_count": 13,
     "metadata": {},
     "output_type": "execute_result"
    }
   ],
   "source": [
    "num_images = fraction_to_abs(fractions)\n",
    "num_images = [int(i) for i in num_images]\n",
    "num_images = [str(i)+' imgs' for i in num_images]\n",
    "schemes = ['Baseline', 'Sequential', 'Joint(best alpha)', 'Joint(alpha-decay)']\n",
    "scheme_scores_AP = np.array([baseline_flywing_n0_AP[:,1], sequential_flywing_n0_AP[:,1],\n",
    "                          best_joint_flywing_n0_scores_AP[0], alpha_decay_flywing_n0_AP[:,1]])\n",
    "df = pd.DataFrame(scheme_scores_AP,index=schemes,columns=num_images)\n",
    "df.style.set_caption('AP scores for Fly Wing n0, highlighted columns indicate best performing method').highlight_max(color='lightblue').set_table_styles(styles)"
   ]
  },
  {
   "cell_type": "code",
   "execution_count": 14,
   "metadata": {},
   "outputs": [
    {
     "data": {
      "text/html": [
       "<style  type=\"text/css\" >\n",
       "    #T_6b91d39e_5def_11ea_8a69_8c859024b71d caption {\n",
       "          text-align: center;\n",
       "          font-size: 120%;\n",
       "          color: black;\n",
       "    }    #T_6b91d39e_5def_11ea_8a69_8c859024b71drow0_col3 {\n",
       "            background-color:  lightblue;\n",
       "        }    #T_6b91d39e_5def_11ea_8a69_8c859024b71drow2_col0 {\n",
       "            background-color:  lightblue;\n",
       "        }    #T_6b91d39e_5def_11ea_8a69_8c859024b71drow2_col1 {\n",
       "            background-color:  lightblue;\n",
       "        }    #T_6b91d39e_5def_11ea_8a69_8c859024b71drow2_col2 {\n",
       "            background-color:  lightblue;\n",
       "        }    #T_6b91d39e_5def_11ea_8a69_8c859024b71drow2_col4 {\n",
       "            background-color:  lightblue;\n",
       "        }</style>  \n",
       "<table id=\"T_6b91d39e_5def_11ea_8a69_8c859024b71d\" ><caption>SEG scores for Fly Wing n0, highlighted columns indicate best performing method</caption> \n",
       "<thead>    <tr> \n",
       "        <th class=\"blank level0\" ></th> \n",
       "        <th class=\"col_heading level0 col0\" >5 imgs</th> \n",
       "        <th class=\"col_heading level0 col1\" >10 imgs</th> \n",
       "        <th class=\"col_heading level0 col2\" >19 imgs</th> \n",
       "        <th class=\"col_heading level0 col3\" >38 imgs</th> \n",
       "        <th class=\"col_heading level0 col4\" >76 imgs</th> \n",
       "    </tr></thead> \n",
       "<tbody>    <tr> \n",
       "        <th id=\"T_6b91d39e_5def_11ea_8a69_8c859024b71dlevel0_row0\" class=\"row_heading level0 row0\" >Baseline</th> \n",
       "        <td id=\"T_6b91d39e_5def_11ea_8a69_8c859024b71drow0_col0\" class=\"data row0 col0\" >0.518286</td> \n",
       "        <td id=\"T_6b91d39e_5def_11ea_8a69_8c859024b71drow0_col1\" class=\"data row0 col1\" >0.597415</td> \n",
       "        <td id=\"T_6b91d39e_5def_11ea_8a69_8c859024b71drow0_col2\" class=\"data row0 col2\" >0.691764</td> \n",
       "        <td id=\"T_6b91d39e_5def_11ea_8a69_8c859024b71drow0_col3\" class=\"data row0 col3\" >0.758293</td> \n",
       "        <td id=\"T_6b91d39e_5def_11ea_8a69_8c859024b71drow0_col4\" class=\"data row0 col4\" >0.757223</td> \n",
       "    </tr>    <tr> \n",
       "        <th id=\"T_6b91d39e_5def_11ea_8a69_8c859024b71dlevel0_row1\" class=\"row_heading level0 row1\" >Sequential</th> \n",
       "        <td id=\"T_6b91d39e_5def_11ea_8a69_8c859024b71drow1_col0\" class=\"data row1 col0\" >0.545432</td> \n",
       "        <td id=\"T_6b91d39e_5def_11ea_8a69_8c859024b71drow1_col1\" class=\"data row1 col1\" >0.583347</td> \n",
       "        <td id=\"T_6b91d39e_5def_11ea_8a69_8c859024b71drow1_col2\" class=\"data row1 col2\" >0.702123</td> \n",
       "        <td id=\"T_6b91d39e_5def_11ea_8a69_8c859024b71drow1_col3\" class=\"data row1 col3\" >0.752278</td> \n",
       "        <td id=\"T_6b91d39e_5def_11ea_8a69_8c859024b71drow1_col4\" class=\"data row1 col4\" >0.757852</td> \n",
       "    </tr>    <tr> \n",
       "        <th id=\"T_6b91d39e_5def_11ea_8a69_8c859024b71dlevel0_row2\" class=\"row_heading level0 row2\" >Joint(best alpha)</th> \n",
       "        <td id=\"T_6b91d39e_5def_11ea_8a69_8c859024b71drow2_col0\" class=\"data row2 col0\" >0.643649</td> \n",
       "        <td id=\"T_6b91d39e_5def_11ea_8a69_8c859024b71drow2_col1\" class=\"data row2 col1\" >0.691996</td> \n",
       "        <td id=\"T_6b91d39e_5def_11ea_8a69_8c859024b71drow2_col2\" class=\"data row2 col2\" >0.710055</td> \n",
       "        <td id=\"T_6b91d39e_5def_11ea_8a69_8c859024b71drow2_col3\" class=\"data row2 col3\" >0.753133</td> \n",
       "        <td id=\"T_6b91d39e_5def_11ea_8a69_8c859024b71drow2_col4\" class=\"data row2 col4\" >0.759056</td> \n",
       "    </tr>    <tr> \n",
       "        <th id=\"T_6b91d39e_5def_11ea_8a69_8c859024b71dlevel0_row3\" class=\"row_heading level0 row3\" >Joint(alpha-decay)</th> \n",
       "        <td id=\"T_6b91d39e_5def_11ea_8a69_8c859024b71drow3_col0\" class=\"data row3 col0\" >0.620944</td> \n",
       "        <td id=\"T_6b91d39e_5def_11ea_8a69_8c859024b71drow3_col1\" class=\"data row3 col1\" >0.666528</td> \n",
       "        <td id=\"T_6b91d39e_5def_11ea_8a69_8c859024b71drow3_col2\" class=\"data row3 col2\" >0.704246</td> \n",
       "        <td id=\"T_6b91d39e_5def_11ea_8a69_8c859024b71drow3_col3\" class=\"data row3 col3\" >0.740491</td> \n",
       "        <td id=\"T_6b91d39e_5def_11ea_8a69_8c859024b71drow3_col4\" class=\"data row3 col4\" >0.754112</td> \n",
       "    </tr></tbody> \n",
       "</table> "
      ],
      "text/plain": [
       "<pandas.io.formats.style.Styler at 0x11a1436a0>"
      ]
     },
     "execution_count": 14,
     "metadata": {},
     "output_type": "execute_result"
    }
   ],
   "source": [
    "scheme_scores = np.array([baseline_flywing_n0_SEG[:,1], sequential_flywing_n0_SEG[:,1],\n",
    "                          best_joint_flywing_n0_scores_SEG[0], alpha_decay_flywing_n0_SEG[:,1]])\n",
    "df = pd.DataFrame(scheme_scores,index=schemes,columns=num_images)\n",
    "df.style.set_caption('SEG scores for Fly Wing n0, highlighted columns indicate best performing method').highlight_max(color='lightblue').set_table_styles(styles)"
   ]
  },
  {
   "cell_type": "code",
   "execution_count": 15,
   "metadata": {
    "scrolled": true
   },
   "outputs": [
    {
     "data": {
      "text/html": [
       "<style  type=\"text/css\" >\n",
       "    #T_6e2d6e3a_5def_11ea_b7a8_8c859024b71d caption {\n",
       "          text-align: center;\n",
       "          font-size: 120%;\n",
       "          color: black;\n",
       "    }    #T_6e2d6e3a_5def_11ea_b7a8_8c859024b71drow0_col3 {\n",
       "            background-color:  lightblue;\n",
       "        }    #T_6e2d6e3a_5def_11ea_b7a8_8c859024b71drow0_col4 {\n",
       "            background-color:  lightblue;\n",
       "        }    #T_6e2d6e3a_5def_11ea_b7a8_8c859024b71drow3_col0 {\n",
       "            background-color:  lightblue;\n",
       "        }    #T_6e2d6e3a_5def_11ea_b7a8_8c859024b71drow3_col1 {\n",
       "            background-color:  lightblue;\n",
       "        }    #T_6e2d6e3a_5def_11ea_b7a8_8c859024b71drow3_col2 {\n",
       "            background-color:  lightblue;\n",
       "        }</style>  \n",
       "<table id=\"T_6e2d6e3a_5def_11ea_b7a8_8c859024b71d\" ><caption>AP scores for Fly Wing n10, highlighted columns indicate best performing method</caption> \n",
       "<thead>    <tr> \n",
       "        <th class=\"blank level0\" ></th> \n",
       "        <th class=\"col_heading level0 col0\" >5 imgs</th> \n",
       "        <th class=\"col_heading level0 col1\" >10 imgs</th> \n",
       "        <th class=\"col_heading level0 col2\" >19 imgs</th> \n",
       "        <th class=\"col_heading level0 col3\" >38 imgs</th> \n",
       "        <th class=\"col_heading level0 col4\" >76 imgs</th> \n",
       "    </tr></thead> \n",
       "<tbody>    <tr> \n",
       "        <th id=\"T_6e2d6e3a_5def_11ea_b7a8_8c859024b71dlevel0_row0\" class=\"row_heading level0 row0\" >Baseline</th> \n",
       "        <td id=\"T_6e2d6e3a_5def_11ea_b7a8_8c859024b71drow0_col0\" class=\"data row0 col0\" >0.577344</td> \n",
       "        <td id=\"T_6e2d6e3a_5def_11ea_b7a8_8c859024b71drow0_col1\" class=\"data row0 col1\" >0.592758</td> \n",
       "        <td id=\"T_6e2d6e3a_5def_11ea_b7a8_8c859024b71drow0_col2\" class=\"data row0 col2\" >0.828157</td> \n",
       "        <td id=\"T_6e2d6e3a_5def_11ea_b7a8_8c859024b71drow0_col3\" class=\"data row0 col3\" >0.920275</td> \n",
       "        <td id=\"T_6e2d6e3a_5def_11ea_b7a8_8c859024b71drow0_col4\" class=\"data row0 col4\" >0.921316</td> \n",
       "    </tr>    <tr> \n",
       "        <th id=\"T_6e2d6e3a_5def_11ea_b7a8_8c859024b71dlevel0_row1\" class=\"row_heading level0 row1\" >Sequential</th> \n",
       "        <td id=\"T_6e2d6e3a_5def_11ea_b7a8_8c859024b71drow1_col0\" class=\"data row1 col0\" >0.56955</td> \n",
       "        <td id=\"T_6e2d6e3a_5def_11ea_b7a8_8c859024b71drow1_col1\" class=\"data row1 col1\" >0.676594</td> \n",
       "        <td id=\"T_6e2d6e3a_5def_11ea_b7a8_8c859024b71drow1_col2\" class=\"data row1 col2\" >0.860105</td> \n",
       "        <td id=\"T_6e2d6e3a_5def_11ea_b7a8_8c859024b71drow1_col3\" class=\"data row1 col3\" >0.904512</td> \n",
       "        <td id=\"T_6e2d6e3a_5def_11ea_b7a8_8c859024b71drow1_col4\" class=\"data row1 col4\" >0.917028</td> \n",
       "    </tr>    <tr> \n",
       "        <th id=\"T_6e2d6e3a_5def_11ea_b7a8_8c859024b71dlevel0_row2\" class=\"row_heading level0 row2\" >Joint(best alpha)</th> \n",
       "        <td id=\"T_6e2d6e3a_5def_11ea_b7a8_8c859024b71drow2_col0\" class=\"data row2 col0\" >0.795335</td> \n",
       "        <td id=\"T_6e2d6e3a_5def_11ea_b7a8_8c859024b71drow2_col1\" class=\"data row2 col1\" >0.855437</td> \n",
       "        <td id=\"T_6e2d6e3a_5def_11ea_b7a8_8c859024b71drow2_col2\" class=\"data row2 col2\" >0.869125</td> \n",
       "        <td id=\"T_6e2d6e3a_5def_11ea_b7a8_8c859024b71drow2_col3\" class=\"data row2 col3\" >0.910846</td> \n",
       "        <td id=\"T_6e2d6e3a_5def_11ea_b7a8_8c859024b71drow2_col4\" class=\"data row2 col4\" >0.912415</td> \n",
       "    </tr>    <tr> \n",
       "        <th id=\"T_6e2d6e3a_5def_11ea_b7a8_8c859024b71dlevel0_row3\" class=\"row_heading level0 row3\" >Joint(alpha-decay)</th> \n",
       "        <td id=\"T_6e2d6e3a_5def_11ea_b7a8_8c859024b71drow3_col0\" class=\"data row3 col0\" >0.807013</td> \n",
       "        <td id=\"T_6e2d6e3a_5def_11ea_b7a8_8c859024b71drow3_col1\" class=\"data row3 col1\" >0.867609</td> \n",
       "        <td id=\"T_6e2d6e3a_5def_11ea_b7a8_8c859024b71drow3_col2\" class=\"data row3 col2\" >0.874786</td> \n",
       "        <td id=\"T_6e2d6e3a_5def_11ea_b7a8_8c859024b71drow3_col3\" class=\"data row3 col3\" >0.896438</td> \n",
       "        <td id=\"T_6e2d6e3a_5def_11ea_b7a8_8c859024b71drow3_col4\" class=\"data row3 col4\" >0.912919</td> \n",
       "    </tr></tbody> \n",
       "</table> "
      ],
      "text/plain": [
       "<pandas.io.formats.style.Styler at 0x11a143a20>"
      ]
     },
     "execution_count": 15,
     "metadata": {},
     "output_type": "execute_result"
    }
   ],
   "source": [
    "scheme_scores_AP = np.array([baseline_flywing_n10_AP[:,1], sequential_flywing_n10_AP[:,1],\n",
    "                          best_joint_flywing_n10_scores_AP[0], alpha_decay_flywing_n10_AP[:,1]])\n",
    "df = pd.DataFrame(scheme_scores_AP,index=schemes,columns=num_images)\n",
    "df.style.set_caption('AP scores for Fly Wing n10, highlighted columns indicate best performing method').highlight_max(color='lightblue').set_table_styles(styles)"
   ]
  },
  {
   "cell_type": "code",
   "execution_count": 16,
   "metadata": {},
   "outputs": [
    {
     "data": {
      "text/html": [
       "<style  type=\"text/css\" >\n",
       "    #T_70b9dd0a_5def_11ea_b870_8c859024b71d caption {\n",
       "          text-align: center;\n",
       "          font-size: 120%;\n",
       "          color: black;\n",
       "    }    #T_70b9dd0a_5def_11ea_b870_8c859024b71drow0_col2 {\n",
       "            background-color:  lightblue;\n",
       "        }    #T_70b9dd0a_5def_11ea_b870_8c859024b71drow0_col3 {\n",
       "            background-color:  lightblue;\n",
       "        }    #T_70b9dd0a_5def_11ea_b870_8c859024b71drow0_col4 {\n",
       "            background-color:  lightblue;\n",
       "        }    #T_70b9dd0a_5def_11ea_b870_8c859024b71drow2_col1 {\n",
       "            background-color:  lightblue;\n",
       "        }    #T_70b9dd0a_5def_11ea_b870_8c859024b71drow3_col0 {\n",
       "            background-color:  lightblue;\n",
       "        }</style>  \n",
       "<table id=\"T_70b9dd0a_5def_11ea_b870_8c859024b71d\" ><caption>SEG scores for Fly Wing n10, highlighted columns indicate best performing method</caption> \n",
       "<thead>    <tr> \n",
       "        <th class=\"blank level0\" ></th> \n",
       "        <th class=\"col_heading level0 col0\" >5 imgs</th> \n",
       "        <th class=\"col_heading level0 col1\" >10 imgs</th> \n",
       "        <th class=\"col_heading level0 col2\" >19 imgs</th> \n",
       "        <th class=\"col_heading level0 col3\" >38 imgs</th> \n",
       "        <th class=\"col_heading level0 col4\" >76 imgs</th> \n",
       "    </tr></thead> \n",
       "<tbody>    <tr> \n",
       "        <th id=\"T_70b9dd0a_5def_11ea_b870_8c859024b71dlevel0_row0\" class=\"row_heading level0 row0\" >Baseline</th> \n",
       "        <td id=\"T_70b9dd0a_5def_11ea_b870_8c859024b71drow0_col0\" class=\"data row0 col0\" >0.547341</td> \n",
       "        <td id=\"T_70b9dd0a_5def_11ea_b870_8c859024b71drow0_col1\" class=\"data row0 col1\" >0.558952</td> \n",
       "        <td id=\"T_70b9dd0a_5def_11ea_b870_8c859024b71drow0_col2\" class=\"data row0 col2\" >0.720045</td> \n",
       "        <td id=\"T_70b9dd0a_5def_11ea_b870_8c859024b71drow0_col3\" class=\"data row0 col3\" >0.753281</td> \n",
       "        <td id=\"T_70b9dd0a_5def_11ea_b870_8c859024b71drow0_col4\" class=\"data row0 col4\" >0.759131</td> \n",
       "    </tr>    <tr> \n",
       "        <th id=\"T_70b9dd0a_5def_11ea_b870_8c859024b71dlevel0_row1\" class=\"row_heading level0 row1\" >Sequential</th> \n",
       "        <td id=\"T_70b9dd0a_5def_11ea_b870_8c859024b71drow1_col0\" class=\"data row1 col0\" >0.556166</td> \n",
       "        <td id=\"T_70b9dd0a_5def_11ea_b870_8c859024b71drow1_col1\" class=\"data row1 col1\" >0.62776</td> \n",
       "        <td id=\"T_70b9dd0a_5def_11ea_b870_8c859024b71drow1_col2\" class=\"data row1 col2\" >0.717801</td> \n",
       "        <td id=\"T_70b9dd0a_5def_11ea_b870_8c859024b71drow1_col3\" class=\"data row1 col3\" >0.742765</td> \n",
       "        <td id=\"T_70b9dd0a_5def_11ea_b870_8c859024b71drow1_col4\" class=\"data row1 col4\" >0.758931</td> \n",
       "    </tr>    <tr> \n",
       "        <th id=\"T_70b9dd0a_5def_11ea_b870_8c859024b71dlevel0_row2\" class=\"row_heading level0 row2\" >Joint(best alpha)</th> \n",
       "        <td id=\"T_70b9dd0a_5def_11ea_b870_8c859024b71drow2_col0\" class=\"data row2 col0\" >0.662873</td> \n",
       "        <td id=\"T_70b9dd0a_5def_11ea_b870_8c859024b71drow2_col1\" class=\"data row2 col1\" >0.710581</td> \n",
       "        <td id=\"T_70b9dd0a_5def_11ea_b870_8c859024b71drow2_col2\" class=\"data row2 col2\" >0.716469</td> \n",
       "        <td id=\"T_70b9dd0a_5def_11ea_b870_8c859024b71drow2_col3\" class=\"data row2 col3\" >0.753016</td> \n",
       "        <td id=\"T_70b9dd0a_5def_11ea_b870_8c859024b71drow2_col4\" class=\"data row2 col4\" >0.730235</td> \n",
       "    </tr>    <tr> \n",
       "        <th id=\"T_70b9dd0a_5def_11ea_b870_8c859024b71dlevel0_row3\" class=\"row_heading level0 row3\" >Joint(alpha-decay)</th> \n",
       "        <td id=\"T_70b9dd0a_5def_11ea_b870_8c859024b71drow3_col0\" class=\"data row3 col0\" >0.671151</td> \n",
       "        <td id=\"T_70b9dd0a_5def_11ea_b870_8c859024b71drow3_col1\" class=\"data row3 col1\" >0.708279</td> \n",
       "        <td id=\"T_70b9dd0a_5def_11ea_b870_8c859024b71drow3_col2\" class=\"data row3 col2\" >0.718715</td> \n",
       "        <td id=\"T_70b9dd0a_5def_11ea_b870_8c859024b71drow3_col3\" class=\"data row3 col3\" >0.747703</td> \n",
       "        <td id=\"T_70b9dd0a_5def_11ea_b870_8c859024b71drow3_col4\" class=\"data row3 col4\" >0.750097</td> \n",
       "    </tr></tbody> \n",
       "</table> "
      ],
      "text/plain": [
       "<pandas.io.formats.style.Styler at 0x11a143208>"
      ]
     },
     "execution_count": 16,
     "metadata": {},
     "output_type": "execute_result"
    }
   ],
   "source": [
    "scheme_scores = np.array([baseline_flywing_n10_SEG[:,1], sequential_flywing_n10_SEG[:,1],\n",
    "                          best_joint_flywing_n10_scores_SEG[0], alpha_decay_flywing_n10_SEG[:,1]])\n",
    "df = pd.DataFrame(scheme_scores,index=schemes,columns=num_images)\n",
    "df.style.set_caption('SEG scores for Fly Wing n10, highlighted columns indicate best performing method').highlight_max(color='lightblue').set_table_styles(styles)"
   ]
  },
  {
   "cell_type": "code",
   "execution_count": 17,
   "metadata": {},
   "outputs": [
    {
     "data": {
      "text/html": [
       "<style  type=\"text/css\" >\n",
       "    #T_772d8394_5def_11ea_b80a_8c859024b71d caption {\n",
       "          text-align: center;\n",
       "          font-size: 120%;\n",
       "          color: black;\n",
       "    }    #T_772d8394_5def_11ea_b80a_8c859024b71drow2_col1 {\n",
       "            background-color:  lightblue;\n",
       "        }    #T_772d8394_5def_11ea_b80a_8c859024b71drow2_col2 {\n",
       "            background-color:  lightblue;\n",
       "        }    #T_772d8394_5def_11ea_b80a_8c859024b71drow2_col3 {\n",
       "            background-color:  lightblue;\n",
       "        }    #T_772d8394_5def_11ea_b80a_8c859024b71drow2_col4 {\n",
       "            background-color:  lightblue;\n",
       "        }    #T_772d8394_5def_11ea_b80a_8c859024b71drow3_col0 {\n",
       "            background-color:  lightblue;\n",
       "        }</style>  \n",
       "<table id=\"T_772d8394_5def_11ea_b80a_8c859024b71d\" ><caption>AP scores for Fly Wing n20, highlighted columns indicate best performing method</caption> \n",
       "<thead>    <tr> \n",
       "        <th class=\"blank level0\" ></th> \n",
       "        <th class=\"col_heading level0 col0\" >5 imgs</th> \n",
       "        <th class=\"col_heading level0 col1\" >10 imgs</th> \n",
       "        <th class=\"col_heading level0 col2\" >19 imgs</th> \n",
       "        <th class=\"col_heading level0 col3\" >38 imgs</th> \n",
       "        <th class=\"col_heading level0 col4\" >76 imgs</th> \n",
       "    </tr></thead> \n",
       "<tbody>    <tr> \n",
       "        <th id=\"T_772d8394_5def_11ea_b80a_8c859024b71dlevel0_row0\" class=\"row_heading level0 row0\" >Baseline</th> \n",
       "        <td id=\"T_772d8394_5def_11ea_b80a_8c859024b71drow0_col0\" class=\"data row0 col0\" >0.409264</td> \n",
       "        <td id=\"T_772d8394_5def_11ea_b80a_8c859024b71drow0_col1\" class=\"data row0 col1\" >0.579781</td> \n",
       "        <td id=\"T_772d8394_5def_11ea_b80a_8c859024b71drow0_col2\" class=\"data row0 col2\" >0.670115</td> \n",
       "        <td id=\"T_772d8394_5def_11ea_b80a_8c859024b71drow0_col3\" class=\"data row0 col3\" >0.899638</td> \n",
       "        <td id=\"T_772d8394_5def_11ea_b80a_8c859024b71drow0_col4\" class=\"data row0 col4\" >0.919001</td> \n",
       "    </tr>    <tr> \n",
       "        <th id=\"T_772d8394_5def_11ea_b80a_8c859024b71dlevel0_row1\" class=\"row_heading level0 row1\" >Sequential</th> \n",
       "        <td id=\"T_772d8394_5def_11ea_b80a_8c859024b71drow1_col0\" class=\"data row1 col0\" >0.552365</td> \n",
       "        <td id=\"T_772d8394_5def_11ea_b80a_8c859024b71drow1_col1\" class=\"data row1 col1\" >0.731516</td> \n",
       "        <td id=\"T_772d8394_5def_11ea_b80a_8c859024b71drow1_col2\" class=\"data row1 col2\" >0.878968</td> \n",
       "        <td id=\"T_772d8394_5def_11ea_b80a_8c859024b71drow1_col3\" class=\"data row1 col3\" >0.906003</td> \n",
       "        <td id=\"T_772d8394_5def_11ea_b80a_8c859024b71drow1_col4\" class=\"data row1 col4\" >0.917251</td> \n",
       "    </tr>    <tr> \n",
       "        <th id=\"T_772d8394_5def_11ea_b80a_8c859024b71dlevel0_row2\" class=\"row_heading level0 row2\" >Joint(best alpha)</th> \n",
       "        <td id=\"T_772d8394_5def_11ea_b80a_8c859024b71drow2_col0\" class=\"data row2 col0\" >0.851139</td> \n",
       "        <td id=\"T_772d8394_5def_11ea_b80a_8c859024b71drow2_col1\" class=\"data row2 col1\" >0.890937</td> \n",
       "        <td id=\"T_772d8394_5def_11ea_b80a_8c859024b71drow2_col2\" class=\"data row2 col2\" >0.880742</td> \n",
       "        <td id=\"T_772d8394_5def_11ea_b80a_8c859024b71drow2_col3\" class=\"data row2 col3\" >0.913672</td> \n",
       "        <td id=\"T_772d8394_5def_11ea_b80a_8c859024b71drow2_col4\" class=\"data row2 col4\" >0.920056</td> \n",
       "    </tr>    <tr> \n",
       "        <th id=\"T_772d8394_5def_11ea_b80a_8c859024b71dlevel0_row3\" class=\"row_heading level0 row3\" >Joint(alpha-decay)</th> \n",
       "        <td id=\"T_772d8394_5def_11ea_b80a_8c859024b71drow3_col0\" class=\"data row3 col0\" >0.855025</td> \n",
       "        <td id=\"T_772d8394_5def_11ea_b80a_8c859024b71drow3_col1\" class=\"data row3 col1\" >0.888119</td> \n",
       "        <td id=\"T_772d8394_5def_11ea_b80a_8c859024b71drow3_col2\" class=\"data row3 col2\" >0.877268</td> \n",
       "        <td id=\"T_772d8394_5def_11ea_b80a_8c859024b71drow3_col3\" class=\"data row3 col3\" >0.889507</td> \n",
       "        <td id=\"T_772d8394_5def_11ea_b80a_8c859024b71drow3_col4\" class=\"data row3 col4\" >0.908389</td> \n",
       "    </tr></tbody> \n",
       "</table> "
      ],
      "text/plain": [
       "<pandas.io.formats.style.Styler at 0x11a143b38>"
      ]
     },
     "execution_count": 17,
     "metadata": {},
     "output_type": "execute_result"
    }
   ],
   "source": [
    "scheme_scores_AP = np.array([baseline_flywing_n20_AP[:,1], sequential_flywing_n20_AP[:,1],\n",
    "                          best_joint_flywing_n20_scores_AP[0], alpha_decay_flywing_n20_AP[:,1]])\n",
    "df = pd.DataFrame(scheme_scores_AP,index=schemes,columns=num_images)\n",
    "df.style.set_caption('AP scores for Fly Wing n20, highlighted columns indicate best performing method').highlight_max(color='lightblue').set_table_styles(styles)"
   ]
  },
  {
   "cell_type": "code",
   "execution_count": 18,
   "metadata": {},
   "outputs": [
    {
     "data": {
      "text/html": [
       "<style  type=\"text/css\" >\n",
       "    #T_78bb7f86_5def_11ea_ace1_8c859024b71d caption {\n",
       "          text-align: center;\n",
       "          font-size: 120%;\n",
       "          color: black;\n",
       "    }    #T_78bb7f86_5def_11ea_ace1_8c859024b71drow1_col2 {\n",
       "            background-color:  lightblue;\n",
       "        }    #T_78bb7f86_5def_11ea_ace1_8c859024b71drow2_col0 {\n",
       "            background-color:  lightblue;\n",
       "        }    #T_78bb7f86_5def_11ea_ace1_8c859024b71drow2_col1 {\n",
       "            background-color:  lightblue;\n",
       "        }    #T_78bb7f86_5def_11ea_ace1_8c859024b71drow2_col3 {\n",
       "            background-color:  lightblue;\n",
       "        }    #T_78bb7f86_5def_11ea_ace1_8c859024b71drow2_col4 {\n",
       "            background-color:  lightblue;\n",
       "        }</style>  \n",
       "<table id=\"T_78bb7f86_5def_11ea_ace1_8c859024b71d\" ><caption>SEG scores for Fly Wing n20, highlighted columns indicate best performing method</caption> \n",
       "<thead>    <tr> \n",
       "        <th class=\"blank level0\" ></th> \n",
       "        <th class=\"col_heading level0 col0\" >5 imgs</th> \n",
       "        <th class=\"col_heading level0 col1\" >10 imgs</th> \n",
       "        <th class=\"col_heading level0 col2\" >19 imgs</th> \n",
       "        <th class=\"col_heading level0 col3\" >38 imgs</th> \n",
       "        <th class=\"col_heading level0 col4\" >76 imgs</th> \n",
       "    </tr></thead> \n",
       "<tbody>    <tr> \n",
       "        <th id=\"T_78bb7f86_5def_11ea_ace1_8c859024b71dlevel0_row0\" class=\"row_heading level0 row0\" >Baseline</th> \n",
       "        <td id=\"T_78bb7f86_5def_11ea_ace1_8c859024b71drow0_col0\" class=\"data row0 col0\" >0.422108</td> \n",
       "        <td id=\"T_78bb7f86_5def_11ea_ace1_8c859024b71drow0_col1\" class=\"data row0 col1\" >0.548564</td> \n",
       "        <td id=\"T_78bb7f86_5def_11ea_ace1_8c859024b71drow0_col2\" class=\"data row0 col2\" >0.593692</td> \n",
       "        <td id=\"T_78bb7f86_5def_11ea_ace1_8c859024b71drow0_col3\" class=\"data row0 col3\" >0.742238</td> \n",
       "        <td id=\"T_78bb7f86_5def_11ea_ace1_8c859024b71drow0_col4\" class=\"data row0 col4\" >0.757572</td> \n",
       "    </tr>    <tr> \n",
       "        <th id=\"T_78bb7f86_5def_11ea_ace1_8c859024b71dlevel0_row1\" class=\"row_heading level0 row1\" >Sequential</th> \n",
       "        <td id=\"T_78bb7f86_5def_11ea_ace1_8c859024b71drow1_col0\" class=\"data row1 col0\" >0.561545</td> \n",
       "        <td id=\"T_78bb7f86_5def_11ea_ace1_8c859024b71drow1_col1\" class=\"data row1 col1\" >0.656533</td> \n",
       "        <td id=\"T_78bb7f86_5def_11ea_ace1_8c859024b71drow1_col2\" class=\"data row1 col2\" >0.73315</td> \n",
       "        <td id=\"T_78bb7f86_5def_11ea_ace1_8c859024b71drow1_col3\" class=\"data row1 col3\" >0.74929</td> \n",
       "        <td id=\"T_78bb7f86_5def_11ea_ace1_8c859024b71drow1_col4\" class=\"data row1 col4\" >0.751745</td> \n",
       "    </tr>    <tr> \n",
       "        <th id=\"T_78bb7f86_5def_11ea_ace1_8c859024b71dlevel0_row2\" class=\"row_heading level0 row2\" >Joint(best alpha)</th> \n",
       "        <td id=\"T_78bb7f86_5def_11ea_ace1_8c859024b71drow2_col0\" class=\"data row2 col0\" >0.706933</td> \n",
       "        <td id=\"T_78bb7f86_5def_11ea_ace1_8c859024b71drow2_col1\" class=\"data row2 col1\" >0.734856</td> \n",
       "        <td id=\"T_78bb7f86_5def_11ea_ace1_8c859024b71drow2_col2\" class=\"data row2 col2\" >0.724032</td> \n",
       "        <td id=\"T_78bb7f86_5def_11ea_ace1_8c859024b71drow2_col3\" class=\"data row2 col3\" >0.754845</td> \n",
       "        <td id=\"T_78bb7f86_5def_11ea_ace1_8c859024b71drow2_col4\" class=\"data row2 col4\" >0.765933</td> \n",
       "    </tr>    <tr> \n",
       "        <th id=\"T_78bb7f86_5def_11ea_ace1_8c859024b71dlevel0_row3\" class=\"row_heading level0 row3\" >Joint(alpha-decay)</th> \n",
       "        <td id=\"T_78bb7f86_5def_11ea_ace1_8c859024b71drow3_col0\" class=\"data row3 col0\" >0.704239</td> \n",
       "        <td id=\"T_78bb7f86_5def_11ea_ace1_8c859024b71drow3_col1\" class=\"data row3 col1\" >0.731842</td> \n",
       "        <td id=\"T_78bb7f86_5def_11ea_ace1_8c859024b71drow3_col2\" class=\"data row3 col2\" >0.725264</td> \n",
       "        <td id=\"T_78bb7f86_5def_11ea_ace1_8c859024b71drow3_col3\" class=\"data row3 col3\" >0.737175</td> \n",
       "        <td id=\"T_78bb7f86_5def_11ea_ace1_8c859024b71drow3_col4\" class=\"data row3 col4\" >0.758176</td> \n",
       "    </tr></tbody> \n",
       "</table> "
      ],
      "text/plain": [
       "<pandas.io.formats.style.Styler at 0x11a380048>"
      ]
     },
     "execution_count": 18,
     "metadata": {},
     "output_type": "execute_result"
    }
   ],
   "source": [
    "scheme_scores = np.array([baseline_flywing_n20_SEG[:,1], sequential_flywing_n20_SEG[:,1],\n",
    "                          best_joint_flywing_n20_scores_SEG[0], alpha_decay_flywing_n20_SEG[:,1]])\n",
    "df = pd.DataFrame(scheme_scores,index=schemes,columns=num_images)\n",
    "df.style.set_caption('SEG scores for Fly Wing n20, highlighted columns indicate best performing method').highlight_max(color='lightblue').set_table_styles(styles)"
   ]
  },
  {
   "cell_type": "code",
   "execution_count": null,
   "metadata": {
    "collapsed": true
   },
   "outputs": [],
   "source": []
  }
 ],
 "metadata": {
  "kernelspec": {
   "display_name": "Python 3",
   "language": "python",
   "name": "python3"
  },
  "language_info": {
   "codemirror_mode": {
    "name": "ipython",
    "version": 3
   },
   "file_extension": ".py",
   "mimetype": "text/x-python",
   "name": "python",
   "nbconvert_exporter": "python",
   "pygments_lexer": "ipython3",
   "version": "3.6.1"
  }
 },
 "nbformat": 4,
 "nbformat_minor": 4
}
