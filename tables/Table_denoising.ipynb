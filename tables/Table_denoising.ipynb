{
 "cells": [
  {
   "cell_type": "code",
   "execution_count": 1,
   "metadata": {},
   "outputs": [
    {
     "name": "stderr",
     "output_type": "stream",
     "text": [
      "Using TensorFlow backend.\n"
     ]
    }
   ],
   "source": [
    "%load_ext autoreload\n",
    "%autoreload 2\n",
    "import warnings\n",
    "warnings.filterwarnings('ignore')\n",
    "import sys\n",
    "sys.path.append('../../')\n",
    "from noise2seg.models import Noise2Seg, Noise2SegConfig\n",
    "import numpy as np\n",
    "from csbdeep.utils import plot_history\n",
    "from noise2seg.utils.misc_utils import combine_train_test_data, shuffle_train_data, augment_data\n",
    "from noise2seg.utils.seg_utils import *\n",
    "from noise2seg.utils.compute_precision_threshold import measure_precision\n",
    "from keras.optimizers import Adam\n",
    "from matplotlib import pyplot as plt\n",
    "from scipy import ndimage\n",
    "import tensorflow as tf\n",
    "import keras.backend as K\n",
    "import urllib\n",
    "import os\n",
    "import zipfile\n",
    "import pandas as pd"
   ]
  },
  {
   "cell_type": "markdown",
   "metadata": {},
   "source": [
    "#### Read data and load model"
   ]
  },
  {
   "cell_type": "code",
   "execution_count": 2,
   "metadata": {},
   "outputs": [],
   "source": [
    "def read_data(exp, noise_level):\n",
    "    \n",
    "    data_path = '/home/prakash/Desktop/fileserver_Noise2Seg/data/'\n",
    "    gt_data = np.load(data_path+exp+'_n0'+'/test/test_data.npz', allow_pickle=True)\n",
    "    test_data = np.load(data_path+exp+'_'+noise_level+'/test/test_data.npz', allow_pickle=True)\n",
    "    gt_data = gt_data['X_test']\n",
    "    test_data = test_data['X_test']\n",
    "    return gt_data, test_data"
   ]
  },
  {
   "cell_type": "code",
   "execution_count": 3,
   "metadata": {},
   "outputs": [],
   "source": [
    "def load_trained_model(exp, noise_level, run, fraction):\n",
    "    \n",
    "    exp_path = '/home/prakash/Desktop/fileserver_Noise2Seg/experiments/'\n",
    "    base_dir = exp_path+exp+'_'+noise_level+'_run'+str(run)+'/fraction_'+fraction+'/'\n",
    "    model_name = exp+'_'+noise_level+'_run'+str(run)+'_model'\n",
    "    n2s_model = Noise2Seg(None, model_name, base_dir)\n",
    "    return n2s_model"
   ]
  },
  {
   "cell_type": "markdown",
   "metadata": {},
   "source": [
    "#### PSNR computation"
   ]
  },
  {
   "cell_type": "code",
   "execution_count": 4,
   "metadata": {},
   "outputs": [],
   "source": [
    "def PSNR(gt, img):\n",
    "    mse = np.mean(np.square(gt - img))\n",
    "    return 20 * np.log10(np.max(gt)-np.min(gt)) - 10 * np.log10(mse)"
   ]
  },
  {
   "cell_type": "code",
   "execution_count": 5,
   "metadata": {},
   "outputs": [],
   "source": [
    "def compute_mean_psnr(exp, noise_level, fraction, gt_data, test_data):\n",
    "    psnr_per_run = []\n",
    "    runs = np.arange(1,6)\n",
    "    for run_idx in runs:\n",
    "        n2s_model = load_trained_model(exp, noise_level, run_idx, fraction)\n",
    "        denoised_images = []\n",
    "        for i in range(test_data.shape[0]):\n",
    "            denoised_ = n2s_model.predict(test_data[i].astype(np.float32),'YX')[...,0]\n",
    "            denoised_images.append(denoised_)\n",
    "        denoised_images = np.array(denoised_images)\n",
    "\n",
    "        psnrs = []\n",
    "        for gt, img in zip(gt_data, denoised_images):\n",
    "            psnrs.append(PSNR(gt, img))\n",
    "\n",
    "        psnrs = np.array(psnrs)\n",
    "        psnr_per_run.append(np.round(np.mean(psnrs), 2))\n",
    "    return np.mean(psnr_per_run)"
   ]
  },
  {
   "cell_type": "markdown",
   "metadata": {},
   "source": [
    "#### Compute results"
   ]
  },
  {
   "cell_type": "code",
   "execution_count": 6,
   "metadata": {},
   "outputs": [
    {
     "name": "stdout",
     "output_type": "stream",
     "text": [
      "Loading network weights from 'weights_best.h5'.\n",
      "Loading network weights from 'weights_best.h5'.\n",
      "Loading network weights from 'weights_best.h5'.\n",
      "Loading network weights from 'weights_best.h5'.\n",
      "Loading network weights from 'weights_best.h5'.\n",
      "Loading network weights from 'weights_best.h5'.\n",
      "Loading network weights from 'weights_best.h5'.\n",
      "Loading network weights from 'weights_best.h5'.\n",
      "Loading network weights from 'weights_best.h5'.\n",
      "Loading network weights from 'weights_best.h5'.\n",
      "Loading network weights from 'weights_best.h5'.\n",
      "Loading network weights from 'weights_best.h5'.\n",
      "Loading network weights from 'weights_best.h5'.\n",
      "Loading network weights from 'weights_best.h5'.\n",
      "Loading network weights from 'weights_best.h5'.\n",
      "Loading network weights from 'weights_best.h5'.\n",
      "Loading network weights from 'weights_best.h5'.\n",
      "Loading network weights from 'weights_best.h5'.\n",
      "Loading network weights from 'weights_best.h5'.\n",
      "Loading network weights from 'weights_best.h5'.\n"
     ]
    }
   ],
   "source": [
    "gt_data_n20, test_data_n20 = read_data('DSB2018', 'n20')\n",
    "gt_data_n10, test_data_n10 = read_data('DSB2018', 'n10')\n",
    "alpha_05_dsb_n20 = compute_mean_psnr(exp='alpha0.5_dsb', noise_level='n20', fraction='0.25', \n",
    "                                        gt_data=gt_data_n20, test_data=test_data_n20)\n",
    "alpha_05_dsb_n10 = compute_mean_psnr(exp='alpha0.5_dsb', noise_level='n10', fraction='0.25', \n",
    "                                        gt_data=gt_data_n10, test_data=test_data_n10)\n",
    "n2v_dsb_n10 = compute_mean_psnr(exp='finDenoise_dsb', noise_level='n10', fraction='100.0', \n",
    "                                        gt_data=gt_data_n10, test_data=test_data_n10)\n",
    "n2v_dsb_n20 = compute_mean_psnr(exp='finDenoise_dsb', noise_level='n20', fraction='100.0', \n",
    "                                        gt_data=gt_data_n20, test_data=test_data_n20)"
   ]
  },
  {
   "cell_type": "code",
   "execution_count": 7,
   "metadata": {},
   "outputs": [
    {
     "name": "stdout",
     "output_type": "stream",
     "text": [
      "Loading network weights from 'weights_best.h5'.\n",
      "Loading network weights from 'weights_best.h5'.\n",
      "Loading network weights from 'weights_best.h5'.\n",
      "Loading network weights from 'weights_best.h5'.\n",
      "Loading network weights from 'weights_best.h5'.\n",
      "Loading network weights from 'weights_best.h5'.\n",
      "Loading network weights from 'weights_best.h5'.\n",
      "Loading network weights from 'weights_best.h5'.\n",
      "Loading network weights from 'weights_best.h5'.\n",
      "Loading network weights from 'weights_best.h5'.\n",
      "Loading network weights from 'weights_best.h5'.\n",
      "Loading network weights from 'weights_best.h5'.\n",
      "Loading network weights from 'weights_best.h5'.\n",
      "Loading network weights from 'weights_best.h5'.\n",
      "Loading network weights from 'weights_best.h5'.\n",
      "Loading network weights from 'weights_best.h5'.\n",
      "Loading network weights from 'weights_best.h5'.\n",
      "Loading network weights from 'weights_best.h5'.\n",
      "Loading network weights from 'weights_best.h5'.\n",
      "Loading network weights from 'weights_best.h5'.\n"
     ]
    }
   ],
   "source": [
    "gt_data_n20, test_data_n20 = read_data('Flywing', 'n20')\n",
    "gt_data_n10, test_data_n10 = read_data('Flywing', 'n10')\n",
    "alpha_05_flywing_n20 = compute_mean_psnr(exp='alpha0.5_flywing', noise_level='n20', fraction='0.125', \n",
    "                                        gt_data=gt_data_n20, test_data=test_data_n20)\n",
    "alpha_05_flywing_n10 = compute_mean_psnr(exp='alpha0.5_flywing', noise_level='n10', fraction='0.125', \n",
    "                                        gt_data=gt_data_n10, test_data=test_data_n10)\n",
    "n2v_flywing_n10 = compute_mean_psnr(exp='finDenoise_flywing', noise_level='n10', fraction='100.0', \n",
    "                                        gt_data=gt_data_n10, test_data=test_data_n10)\n",
    "n2v_flywing_n20 = compute_mean_psnr(exp='finDenoise_flywing', noise_level='n20', fraction='100.0', \n",
    "                                        gt_data=gt_data_n20, test_data=test_data_n20)"
   ]
  },
  {
   "cell_type": "code",
   "execution_count": 8,
   "metadata": {},
   "outputs": [
    {
     "name": "stdout",
     "output_type": "stream",
     "text": [
      "Loading network weights from 'weights_best.h5'.\n",
      "Loading network weights from 'weights_best.h5'.\n",
      "Loading network weights from 'weights_best.h5'.\n",
      "Loading network weights from 'weights_best.h5'.\n",
      "Loading network weights from 'weights_best.h5'.\n",
      "Loading network weights from 'weights_best.h5'.\n",
      "Loading network weights from 'weights_best.h5'.\n",
      "Loading network weights from 'weights_best.h5'.\n",
      "Loading network weights from 'weights_best.h5'.\n",
      "Loading network weights from 'weights_best.h5'.\n",
      "Loading network weights from 'weights_best.h5'.\n",
      "Loading network weights from 'weights_best.h5'.\n",
      "Loading network weights from 'weights_best.h5'.\n",
      "Loading network weights from 'weights_best.h5'.\n",
      "Loading network weights from 'weights_best.h5'.\n",
      "Loading network weights from 'weights_best.h5'.\n",
      "Loading network weights from 'weights_best.h5'.\n",
      "Loading network weights from 'weights_best.h5'.\n",
      "Loading network weights from 'weights_best.h5'.\n",
      "Loading network weights from 'weights_best.h5'.\n"
     ]
    }
   ],
   "source": [
    "gt_data_n20, test_data_n20 = read_data('Mouse', 'n20')\n",
    "gt_data_n10, test_data_n10 = read_data('Mouse', 'n10')\n",
    "alpha_05_mouse_n20 = compute_mean_psnr(exp='alpha0.5_nmouse', noise_level='n20', fraction='0.125', \n",
    "                                        gt_data=gt_data_n20, test_data=test_data_n20)\n",
    "alpha_05_mouse_n10 = compute_mean_psnr(exp='alpha0.5_nmouse', noise_level='n10', fraction='0.125', \n",
    "                                        gt_data=gt_data_n10, test_data=test_data_n10)\n",
    "n2v_mouse_n10 = compute_mean_psnr(exp='finDenoise_nmouse', noise_level='n10', fraction='100.0', \n",
    "                                        gt_data=gt_data_n10, test_data=test_data_n10)\n",
    "n2v_mouse_n20 = compute_mean_psnr(exp='finDenoise_nmouse', noise_level='n20', fraction='100.0', \n",
    "                                        gt_data=gt_data_n20, test_data=test_data_n20)"
   ]
  },
  {
   "cell_type": "markdown",
   "metadata": {},
   "source": [
    "#### Create table"
   ]
  },
  {
   "cell_type": "code",
   "execution_count": 24,
   "metadata": {},
   "outputs": [],
   "source": [
    "styles = [dict(selector=\"caption\", \n",
    "    props=[(\"text-align\", \"center\"),\n",
    "    (\"font-size\", \"120%\"),\n",
    "    (\"color\", 'black')])] "
   ]
  },
  {
   "cell_type": "code",
   "execution_count": 25,
   "metadata": {},
   "outputs": [
    {
     "data": {
      "text/html": [
       "<style  type=\"text/css\" >\n",
       "    #T_f13049d6_62c4_11ea_be38_180373262c4b caption {\n",
       "          text-align: center;\n",
       "          font-size: 120%;\n",
       "          color: black;\n",
       "    }</style><table id=\"T_f13049d6_62c4_11ea_be38_180373262c4b\" ><caption>Mean PSNR in dB, for DenoiSeg alpha = 0.5</caption><thead>    <tr>        <th class=\"blank level0\" ></th>        <th class=\"col_heading level0 col0\" >dsb N2V</th>        <th class=\"col_heading level0 col1\" >dsb DenoiSeg</th>        <th class=\"col_heading level0 col2\" >flywing N2V</th>        <th class=\"col_heading level0 col3\" >flywing DenoiSeg</th>        <th class=\"col_heading level0 col4\" >mouse N2V</th>        <th class=\"col_heading level0 col5\" >mouse DenoiSeg</th>    </tr></thead><tbody>\n",
       "                <tr>\n",
       "                        <th id=\"T_f13049d6_62c4_11ea_be38_180373262c4blevel0_row0\" class=\"row_heading level0 row0\" >n10</th>\n",
       "                        <td id=\"T_f13049d6_62c4_11ea_be38_180373262c4brow0_col0\" class=\"data row0 col0\" >38.010000</td>\n",
       "                        <td id=\"T_f13049d6_62c4_11ea_be38_180373262c4brow0_col1\" class=\"data row0 col1\" >37.572000</td>\n",
       "                        <td id=\"T_f13049d6_62c4_11ea_be38_180373262c4brow0_col2\" class=\"data row0 col2\" >33.164000</td>\n",
       "                        <td id=\"T_f13049d6_62c4_11ea_be38_180373262c4brow0_col3\" class=\"data row0 col3\" >33.126000</td>\n",
       "                        <td id=\"T_f13049d6_62c4_11ea_be38_180373262c4brow0_col4\" class=\"data row0 col4\" >37.862000</td>\n",
       "                        <td id=\"T_f13049d6_62c4_11ea_be38_180373262c4brow0_col5\" class=\"data row0 col5\" >37.420000</td>\n",
       "            </tr>\n",
       "            <tr>\n",
       "                        <th id=\"T_f13049d6_62c4_11ea_be38_180373262c4blevel0_row1\" class=\"row_heading level0 row1\" >n20</th>\n",
       "                        <td id=\"T_f13049d6_62c4_11ea_be38_180373262c4brow1_col0\" class=\"data row1 col0\" >35.536000</td>\n",
       "                        <td id=\"T_f13049d6_62c4_11ea_be38_180373262c4brow1_col1\" class=\"data row1 col1\" >35.384000</td>\n",
       "                        <td id=\"T_f13049d6_62c4_11ea_be38_180373262c4brow1_col2\" class=\"data row1 col2\" >30.720000</td>\n",
       "                        <td id=\"T_f13049d6_62c4_11ea_be38_180373262c4brow1_col3\" class=\"data row1 col3\" >30.456000</td>\n",
       "                        <td id=\"T_f13049d6_62c4_11ea_be38_180373262c4brow1_col4\" class=\"data row1 col4\" >34.596000</td>\n",
       "                        <td id=\"T_f13049d6_62c4_11ea_be38_180373262c4brow1_col5\" class=\"data row1 col5\" >34.216000</td>\n",
       "            </tr>\n",
       "    </tbody></table>"
      ],
      "text/plain": [
       "<pandas.io.formats.style.Styler at 0x7ff5c8c92cc0>"
      ]
     },
     "execution_count": 25,
     "metadata": {},
     "output_type": "execute_result"
    }
   ],
   "source": [
    "heads = ['dsb N2V', 'dsb DenoiSeg', 'flywing N2V', 'flywing DenoiSeg', 'mouse N2V', 'mouse DenoiSeg']\n",
    "datasets = ['N2V', 'DenoiSeg', 'N2V', 'DenoiSeg', 'N2V', 'DenoiSeg']\n",
    "\n",
    "noise_levels = ['n10', 'n20']\n",
    "n10_scores = [n2v_dsb_n10, alpha_05_dsb_n10, n2v_flywing_n10, alpha_05_flywing_n10, n2v_mouse_n10, alpha_05_mouse_n10]\n",
    "n20_scores = [n2v_dsb_n20, alpha_05_dsb_n20, n2v_flywing_n20, alpha_05_flywing_n20, n2v_mouse_n20, alpha_05_mouse_n20]\n",
    "scores = np.array([n10_scores, n20_scores])\n",
    "df = pd.DataFrame(scores,index=noise_levels,columns=heads)\n",
    "df.style.set_caption('Mean PSNR in dB, for DenoiSeg alpha = 0.5').set_table_styles(styles)"
   ]
  },
  {
   "cell_type": "code",
   "execution_count": null,
   "metadata": {},
   "outputs": [],
   "source": []
  }
 ],
 "metadata": {
  "kernelspec": {
   "display_name": "DenoiSeg",
   "language": "python",
   "name": "denoiseg"
  },
  "language_info": {
   "codemirror_mode": {
    "name": "ipython",
    "version": 3
   },
   "file_extension": ".py",
   "mimetype": "text/x-python",
   "name": "python",
   "nbconvert_exporter": "python",
   "pygments_lexer": "ipython3",
   "version": "3.6.10"
  }
 },
 "nbformat": 4,
 "nbformat_minor": 4
}
