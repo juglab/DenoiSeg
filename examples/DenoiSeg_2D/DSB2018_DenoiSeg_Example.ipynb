{
 "cells": [
  {
   "cell_type": "markdown",
   "metadata": {},
   "source": [
    "# DenoiSeg Example: DSB 2018\n",
    "This is an example notebook which illustrates how DenoiSeg should be trained. In this notebook we use a refined version of the Kaggle 2018 Data Science Bowl (DSB 2018) dataset. We already split the data into train and test images. From the train images we then extracted 3800 training and 670 validation patches of size 128x128. The test set contains 50 images. \n"
   ]
  },
  {
   "cell_type": "code",
   "execution_count": 1,
   "metadata": {},
   "outputs": [
    {
     "name": "stderr",
     "output_type": "stream",
     "text": [
      "Using TensorFlow backend.\n"
     ]
    }
   ],
   "source": [
    "# Here we are just importing some libraries which are needed to run this notebook.\n",
    "import warnings\n",
    "warnings.filterwarnings('ignore')\n",
    "\n",
    "import numpy as np\n",
    "from matplotlib import pyplot as plt\n",
    "from scipy import ndimage\n",
    "\n",
    "from denoiseg.models import DenoiSeg, DenoiSegConfig\n",
    "from denoiseg.utils.misc_utils import combine_train_test_data, shuffle_train_data, augment_data\n",
    "from denoiseg.utils.seg_utils import *\n",
    "from denoiseg.utils.compute_precision_threshold import measure_precision\n",
    "\n",
    "from csbdeep.utils import plot_history\n",
    "\n",
    "import urllib\n",
    "import os\n",
    "import zipfile"
   ]
  },
  {
   "cell_type": "markdown",
   "metadata": {},
   "source": [
    "## Downloading and  Data Loading\n",
    "We created three versions of this dataset by adding Gaussian noise with zero mean and standard deviations 10 and 20. The dataset are marked with the suffixes n0, n10 and n20 accordingly.\n",
    "\n",
    "In the next cell you can choose which `noise_level` you would like to investigate."
   ]
  },
  {
   "cell_type": "code",
   "execution_count": 2,
   "metadata": {},
   "outputs": [],
   "source": [
    "# Choose the noise level you would like to look at:\n",
    "# Values: 'n0', 'n10', 'n20'\n",
    "noise_level = 'n10'"
   ]
  },
  {
   "cell_type": "code",
   "execution_count": 3,
   "metadata": {},
   "outputs": [],
   "source": [
    "# create a folder for our data\n",
    "if not os.path.isdir('./data'):\n",
    "    os.mkdir('data')\n",
    "    \n",
    "if noise_level == 'n0':\n",
    "    link = 'https://owncloud.mpi-cbg.de/index.php/s/1WXxLSqbK0ZIxF5/download'\n",
    "elif noise_level == 'n10':\n",
    "    link = 'https://owncloud.mpi-cbg.de/index.php/s/dRc1AHcaH8mqeh7/download'\n",
    "elif noise_level == 'n20':\n",
    "    link = 'https://owncloud.mpi-cbg.de/index.php/s/hy6xSq82kCoqqSH/download'\n",
    "else:\n",
    "    print('This noise level does not exist for this dataset.')\n",
    "\n",
    "# check if data has been downloaded already\n",
    "zipPath=\"data/DSB2018_{}.zip\".format(noise_level)\n",
    "if not os.path.exists(zipPath):\n",
    "    #download and unzip data\n",
    "    data = urllib.request.urlretrieve(link, zipPath)\n",
    "    with zipfile.ZipFile(zipPath, 'r') as zip_ref:\n",
    "        zip_ref.extractall(\"data\")"
   ]
  },
  {
   "cell_type": "code",
   "execution_count": 4,
   "metadata": {},
   "outputs": [],
   "source": [
    "# Loading of the training images\n",
    "trainval_data =  np.load('data/DSB2018_{}/train/train_data.npz'.format(noise_level))\n",
    "train_images = trainval_data['X_train'].astype(np.float32)\n",
    "train_masks = trainval_data['Y_train']\n",
    "val_images = trainval_data['X_val'].astype(np.float32)\n",
    "val_masks = trainval_data['Y_val']"
   ]
  },
  {
   "cell_type": "code",
   "execution_count": 5,
   "metadata": {},
   "outputs": [
    {
     "name": "stdout",
     "output_type": "stream",
     "text": [
      "Shape of train_images: (3800, 128, 128)\n",
      "Shape of train_masks:  (3800, 128, 128)\n",
      "Shape of val_images:   (670, 128, 128)\n",
      "Shape of val_masks:    (670, 128, 128)\n"
     ]
    }
   ],
   "source": [
    "print(\"Shape of train_images: {}\".format(train_images.shape))\n",
    "print(\"Shape of train_masks:  {}\".format(train_masks.shape))\n",
    "print(\"Shape of val_images:   {}\".format(val_images.shape))\n",
    "print(\"Shape of val_masks:    {}\".format(val_masks.shape))"
   ]
  },
  {
   "cell_type": "markdown",
   "metadata": {},
   "source": [
    "## Small Amounts of Annotated Training Data\n",
    "With DenoiSeg we present a solution to train deep neural networks if only few annotated ground truth segmentations are available. We simulate such a scenary by zeroing out all but a fraction of the available training data. In the next cell you can specify the percentage of training images for which ground truth annotations are available."
   ]
  },
  {
   "cell_type": "code",
   "execution_count": 6,
   "metadata": {},
   "outputs": [],
   "source": [
    "# Set the number of annotated training images.\n",
    "# Values: 0.0 (no annotated images) to total number of training images (all images have annotations)\n",
    "number_of_annotated_training_images = 19\n",
    "assert number_of_annotated_training_images >= 0.0 and number_of_annotated_training_images <=train_images.shape[0]"
   ]
  },
  {
   "cell_type": "code",
   "execution_count": 7,
   "metadata": {
    "scrolled": true
   },
   "outputs": [
    {
     "name": "stdout",
     "output_type": "stream",
     "text": [
      "Raw image size after augmentation (30400, 128, 128)\n",
      "Mask size after augmentation (30400, 128, 128)\n",
      "Shape of X:     (30400, 128, 128, 1)\n",
      "Shape of Y:     (30400, 128, 128, 3)\n",
      "Shape of X_val: (670, 128, 128, 1)\n",
      "Shape of Y_val: (670, 128, 128, 3)\n"
     ]
    }
   ],
   "source": [
    "# Seed to shuffle training data (annotated GT and raw image pairs).\n",
    "seed = 1 \n",
    "\n",
    "# First we shuffle the training images to remove any bias.\n",
    "X_shuffled, Y_shuffled = shuffle_train_data(train_images, train_masks, random_seed=seed)\n",
    "\n",
    "# Here we convert the number of annotated images to be used for training as percentage of available training data.\n",
    "percentage_of_annotated_training_images = float((number_of_annotated_training_images/train_images.shape[0])*100.0)\n",
    "assert percentage_of_annotated_training_images >= 0.0 and percentage_of_annotated_training_images <=100.0\n",
    "\n",
    "# Here we zero out the segmentations of those training images which are not part of the selected annotated images.\n",
    "X_frac, Y_frac = zero_out_train_data(X_shuffled, Y_shuffled, fraction = percentage_of_annotated_training_images)\n",
    "\n",
    "# Now we apply data augmentation to the training patches:\n",
    "# Rotate four times by 90 degree and add flipped versions.\n",
    "X, Y_train_masks = augment_data(X_frac, Y_frac)\n",
    "X_val, Y_val_masks = val_images, val_masks\n",
    "\n",
    "# Here we add the channel dimension to our input images.\n",
    "# Dimensionality for training has to be 'SYXC' (Sample, Y-Dimension, X-Dimension, Channel)\n",
    "X = X[...,np.newaxis]\n",
    "Y = convert_to_oneHot(Y_train_masks)\n",
    "X_val = X_val[...,np.newaxis]\n",
    "Y_val = convert_to_oneHot(Y_val_masks)\n",
    "print(\"Shape of X:     {}\".format(X.shape))\n",
    "print(\"Shape of Y:     {}\".format(Y.shape))\n",
    "print(\"Shape of X_val: {}\".format(X_val.shape))\n",
    "print(\"Shape of Y_val: {}\".format(Y_val.shape))"
   ]
  },
  {
   "cell_type": "markdown",
   "metadata": {},
   "source": [
    "Next we look at a single sample. In the first column we show the input image, in the second column the background segmentation, in the third column the foreground segmentation and in the last column the border segmentation.\n",
    "\n",
    "With the parameter `sample` you can choose different training patches. You will notice that not all of them have a segmentation ground truth."
   ]
  },
  {
   "cell_type": "code",
   "execution_count": 8,
   "metadata": {},
   "outputs": [
    {
     "data": {
      "image/png": "[encoded data removed]",
      "text/plain": [
       "<Figure size 1440x360 with 4 Axes>"
      ]
     },
     "metadata": {
      "needs_background": "light"
     },
     "output_type": "display_data"
    }
   ],
   "source": [
    "sample = 0\n",
    "plt.figure(figsize=(20,5))\n",
    "plt.subplot(1,4,1)\n",
    "plt.imshow(X[sample,...,0])\n",
    "plt.axis('off')\n",
    "plt.title('Raw validation image')\n",
    "plt.subplot(1,4,2)\n",
    "plt.imshow(Y[sample,...,0], vmin=0, vmax=1, interpolation='nearest')\n",
    "plt.axis('off')\n",
    "plt.title('1-hot encoded background')\n",
    "plt.subplot(1,4,3)\n",
    "plt.imshow(Y[sample,...,1], vmin=0, vmax=1, interpolation='nearest')\n",
    "plt.axis('off')\n",
    "plt.title('1-hot encoded foreground')\n",
    "plt.subplot(1,4,4)\n",
    "plt.imshow(Y[sample,...,2], vmin=0, vmax=1, interpolation='nearest')\n",
    "plt.axis('off')\n",
    "plt.title('1-hot encoded border');"
   ]
  },
  {
   "cell_type": "markdown",
   "metadata": {},
   "source": [
    "### Configure network parameters"
   ]
  },
  {
   "cell_type": "code",
   "execution_count": 9,
   "metadata": {},
   "outputs": [],
   "source": [
    "train_batch_size = 128\n",
    "train_steps_per_epoch = max(100, min(int(X.shape[0]/train_batch_size), 400))"
   ]
  },
  {
   "cell_type": "markdown",
   "metadata": {},
   "source": [
    "In the next cell, you can choose how much relative importance (weight) to assign to denoising \n",
    "and segmentation tasks by choosing appropriate value for `denoiseg_alpha` (between `0` and `1`; with `0` being\n",
    "only segmentation and `1` being only denoising. Here we choose `denoiseg_alpha = 0.5`)"
   ]
  },
  {
   "cell_type": "code",
   "execution_count": 10,
   "metadata": {},
   "outputs": [
    {
     "data": {
      "text/plain": [
       "{'means': ['13.494209'],\n",
       " 'stds': ['20.886541'],\n",
       " 'n_dim': 2,\n",
       " 'axes': 'YXC',\n",
       " 'n_channel_in': 1,\n",
       " 'n_channel_out': 4,\n",
       " 'train_loss': 'denoiseg',\n",
       " 'unet_n_depth': 4,\n",
       " 'relative_weights': [1.0, 1.0, 5.0],\n",
       " 'unet_kern_size': 3,\n",
       " 'unet_n_first': 32,\n",
       " 'unet_last_activation': 'linear',\n",
       " 'probabilistic': False,\n",
       " 'unet_residual': False,\n",
       " 'unet_input_shape': (None, None, 1),\n",
       " 'train_epochs': 200,\n",
       " 'train_steps_per_epoch': 237,\n",
       " 'train_learning_rate': 0.0004,\n",
       " 'train_batch_size': 128,\n",
       " 'train_tensorboard': True,\n",
       " 'train_checkpoint': 'weights_best.h5',\n",
       " 'train_checkpoint_last': 'weights_last.h5',\n",
       " 'train_checkpoint_epoch': 'weights_now.h5',\n",
       " 'train_reduce_lr': {'monitor': 'val_loss', 'factor': 0.5, 'patience': 10},\n",
       " 'batch_norm': True,\n",
       " 'n2v_perc_pix': 1.5,\n",
       " 'n2v_patch_shape': (64, 64),\n",
       " 'n2v_manipulator': 'uniform_withCP',\n",
       " 'n2v_neighborhood_radius': 5,\n",
       " 'denoiseg_alpha': 0.5}"
      ]
     },
     "execution_count": 10,
     "metadata": {},
     "output_type": "execute_result"
    }
   ],
   "source": [
    "conf = DenoiSegConfig(X, unet_kern_size=3, n_channel_out=4, relative_weights = [1.0,1.0,5.0],\n",
    "                      train_steps_per_epoch=train_steps_per_epoch, train_epochs=200, \n",
    "                      batch_norm=True, train_batch_size=128, unet_n_first = 32, \n",
    "                      unet_n_depth=4, denoiseg_alpha=0.5, train_tensorboard=True)\n",
    "\n",
    "vars(conf)"
   ]
  },
  {
   "cell_type": "code",
   "execution_count": 11,
   "metadata": {
    "scrolled": true
   },
   "outputs": [],
   "source": [
    "model_name = 'DenoiSeg_DSB18_n10'\n",
    "basedir = 'models'\n",
    "model = DenoiSeg(conf, model_name, basedir)"
   ]
  },
  {
   "cell_type": "code",
   "execution_count": null,
   "metadata": {
    "scrolled": true
   },
   "outputs": [],
   "source": [
    "history = model.train(X, Y, (X_val, Y_val))"
   ]
  },
  {
   "cell_type": "code",
   "execution_count": null,
   "metadata": {},
   "outputs": [],
   "source": [
    "history.history.keys()"
   ]
  },
  {
   "cell_type": "code",
   "execution_count": null,
   "metadata": {
    "scrolled": true
   },
   "outputs": [],
   "source": [
    "plot_history(history, ['loss', 'val_loss'])"
   ]
  },
  {
   "cell_type": "markdown",
   "metadata": {},
   "source": [
    "## Computing Threshold Value\n",
    "The network predicts 4 output channels:\n",
    "1. The denoised input.\n",
    "2. The background likelihoods.\n",
    "3. The foreground likelihoods.\n",
    "4. The border likelihoods.\n",
    "\n",
    "We will threshold the foreground prediction image to obtain object segmentations. The optimal threshold is determined on the validation data. Additionally we can optimize the threshold for a given measure. In this case we choose the Average Precision (AP) measure."
   ]
  },
  {
   "cell_type": "code",
   "execution_count": null,
   "metadata": {},
   "outputs": [],
   "source": [
    "threshold, val_score = model.optimize_thresholds(val_images.astype(np.float32), val_masks, measure=measure_precision())\n",
    "\n",
    "print(\"The higest score of {} is achieved with threshold = {}.\".format(np.round(val_score, 3), threshold))"
   ]
  },
  {
   "cell_type": "markdown",
   "metadata": {},
   "source": [
    "## Test Data\n",
    "Finally we load the test data and run the prediction."
   ]
  },
  {
   "cell_type": "code",
   "execution_count": null,
   "metadata": {},
   "outputs": [],
   "source": [
    "test_data =  np.load('data/DSB2018_{}/test/test_data.npz'.format(noise_level), allow_pickle=True)\n",
    "test_images = test_data['X_test']\n",
    "test_masks = test_data['Y_test']"
   ]
  },
  {
   "cell_type": "code",
   "execution_count": null,
   "metadata": {},
   "outputs": [],
   "source": [
    "predicted_images, precision_result = model.predict_label_masks(test_images, test_masks, 0.5, \n",
    "                                                                   measure=measure_precision())\n",
    "print(\"Average precision over all test images with threshold = {} is {}.\".format(0.5, np.round(precision_result, 3)))"
   ]
  },
  {
   "cell_type": "markdown",
   "metadata": {},
   "source": [
    "### Visualize the results"
   ]
  },
  {
   "cell_type": "code",
   "execution_count": null,
   "metadata": {
    "scrolled": true
   },
   "outputs": [],
   "source": [
    "sl = -1\n",
    "fig = plt.figure()\n",
    "plt.figure(figsize=(20,10))\n",
    "plt.subplot(1, 3, 1)\n",
    "plt.imshow(test_images[sl])\n",
    "plt.title(\"Raw image\")\n",
    "\n",
    "plt.subplot(1, 3, 2)\n",
    "plt.imshow(predicted_images[sl])\n",
    "plt.title(\"Predicted segmentation\")\n",
    "\n",
    "plt.subplot(1, 3, 3)\n",
    "plt.imshow(test_masks[sl])\n",
    "plt.title(\"Ground truth segmentation\")\n",
    "\n",
    "plt.show()"
   ]
  },
  {
   "cell_type": "markdown",
   "metadata": {},
   "source": [
    "### Expected results for this dataset"
   ]
  },
  {
   "cell_type": "markdown",
   "metadata": {},
   "source": [
    "<b>AP scores for DSB n0 dataset</b>.\n",
    "\n",
    "\n",
    "||10 imgs|19 imgs|38 imgs|76 imgs|152 imgs|304 imgs|608 imgs|1216 imgs|2432 imgs|3800 imgs|\n",
    "|--- |--- |--- |--- |--- |--- |--- |--- |--- |--- |--- |\n",
    "|Alpha 0.5|0.625±0.008|0.637±0.01|0.663±0.01|0.678±0.004|0.694±0.006|0.742±0.007|0.769±0.006|0.794±0.003|0.775±0.004|0.785±0.002|\n",
    "|Alpha 0.3|0.621±0.01|0.654±0.004|0.670±0.005|0.682±0.004|0.705±0.009|0.756±0.002|0.767±0.003|0.787±0.005|0.786±0.005|0.788±0.001|\n",
    "|Alpha 0.7|0.612±0.01|0.643±0.01|0.666±0.005|0.674±0.005|0.699±0.004|0.725±0.004|0.774±0.005|0.786±0.006|0.791±0.001|0.784±0.005|\n",
    "|Alpha best|0.652±0.005|0.667±0.002|0.684±0.002|0.697±0.004|0.746±0.007|0.770±0.001|0.787±0.003|0.802±0.001|0.799±0.002|0.801±0.001|\n",
    "\n",
    "<b>AP scores for DSB n10 dataset</b>.\n",
    "\n",
    "||10 imgs|19 imgs|38 imgs|76 imgs|152 imgs|304 imgs|608 imgs|1216 imgs|2432 imgs|3800 imgs|\n",
    "|--- |--- |--- |--- |--- |--- |--- |--- |--- |--- |--- |\n",
    "|Alpha 0.5|0.662±0.01|0.698±0.01|0.690±0.01|0.711±0.008|0.746±0.004|0.760±0.005|0.775±0.007|0.780±0.003|0.794±0.003|0.779±0.007|\n",
    "|Alpha 0.3|0.675±0.009|0.682±0.006|0.710±0.004|0.720±0.005|0.744±0.006|0.760±0.007|0.779±0.003|0.792±0.002|0.796±0.002|0.795±0.002|\n",
    "|Alpha 0.7|0.627±0.02|0.692±0.004|0.702±0.01|0.708±0.008|0.736±0.002|0.753±0.003|0.767±0.008|0.783±0.002|0.789±0.001|0.780±0.002|\n",
    "|Alpha best|0.690±0.01|0.705±0.005|0.718±0.004|0.728±0.005|0.757±0.003|0.773±0.001|0.789±0.001|0.799±0.002|0.806±0.002|0.800±0.001|\n",
    "\n",
    "<b>AP scores for DSB n20 dataset</b>.\n",
    "\n",
    "||10 imgs|19 imgs|38 imgs|76 imgs|152 imgs|304 imgs|608 imgs|1216 imgs|2432 imgs|3800 imgs|\n",
    "|--- |--- |--- |--- |--- |--- |--- |--- |--- |--- |--- |\n",
    "|Alpha 0.5|0.677±0.01|0.689±0.008|0.697±0.008|0.714±0.002|0.723±0.006|0.733±0.004|0.741±0.003|0.766±0.006|0.775±0.003|0.771±0.006|\n",
    "|Alpha 0.3|0.669±0.008|0.669±0.009|0.687±0.01|0.715±0.005|0.722±0.002|0.753±0.005|0.757±0.003|0.774±0.002|0.775±0.001|0.770±0.003|\n",
    "|Alpha 0.7|0.627±0.03|0.667±0.01|0.702±0.006|0.698±0.008|0.718±0.006|0.733±0.005|0.747±0.004|0.767±0.003|0.770±0.004|0.773±0.003|\n",
    "|Alpha best|0.690±0.006|0.702±0.003|0.710±0.006|0.723±0.003|0.738±0.001|0.757±0.004|0.766±0.003|0.782±0.001|0.789±0.002|0.788±0.001|"
   ]
  },
  {
   "cell_type": "code",
   "execution_count": null,
   "metadata": {},
   "outputs": [],
   "source": []
  }
 ],
 "metadata": {
  "kernelspec": {
   "display_name": "DenoiSeg",
   "language": "python",
   "name": "denoiseg"
  },
  "language_info": {
   "codemirror_mode": {
    "name": "ipython",
    "version": 3
   },
   "file_extension": ".py",
   "mimetype": "text/x-python",
   "name": "python",
   "nbconvert_exporter": "python",
   "pygments_lexer": "ipython3",
   "version": "3.6.10"
  }
 },
 "nbformat": 4,
 "nbformat_minor": 2
}
